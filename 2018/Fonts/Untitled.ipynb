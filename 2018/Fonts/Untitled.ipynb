{
 "cells": [
  {
   "cell_type": "code",
   "execution_count": 57,
   "metadata": {
    "collapsed": true
   },
   "outputs": [],
   "source": [
    "import PIL, PIL.ImageFont, PIL.Image, PIL.ImageDraw, PIL.ImageChops, PIL.ImageOps\n",
    "import os\n",
    "import random\n",
    "import string\n",
    "import numpy\n",
    "import sys\n",
    "import matplotlib.pyplot as plt\n",
    "\n",
    "%matplotlib inline"
   ]
  },
  {
   "cell_type": "code",
   "execution_count": 2,
   "metadata": {
    "collapsed": true
   },
   "outputs": [],
   "source": [
    "w, h = 64, 64\n",
    "w0, h0 = 256, 256"
   ]
  },
  {
   "cell_type": "code",
   "execution_count": 54,
   "metadata": {},
   "outputs": [
    {
     "name": "stdout",
     "output_type": "stream",
     "text": [
      "abcdefghijklmnopqrstuvwxyzABCDEFGHIJKLMNOPQRSTUVWXYZ0123456789!\"#$%&'()*+,-./:;<=>?@[\\]^_`{|}~\n"
     ]
    }
   ],
   "source": [
    "chars = string.ascii_letters + string.digits + string.punctuation\n",
    "print(chars)"
   ]
  },
  {
   "cell_type": "code",
   "execution_count": 39,
   "metadata": {},
   "outputs": [],
   "source": [
    "def get_ttfs(d='scraper/fonts'):\n",
    "    for dirpath, dirname, filenames in os.walk(d):\n",
    "        for filename in filenames:\n",
    "            if filename.endswith('.ttf') or filename.endswith('.otf'):\n",
    "                yield os.path.join(dirpath, filename)"
   ]
  },
  {
   "cell_type": "code",
   "execution_count": 74,
   "metadata": {},
   "outputs": [],
   "source": [
    "def read_font(fn):\n",
    "    # loads a font object\n",
    "    font = PIL.ImageFont.truetype(fn, min(w0, h0))\n",
    "    print(font)\n",
    "\n",
    "#     # We need to make sure we scale down the fonts but preserve the vertical alignment\n",
    "#     min_ly = float('inf')\n",
    "#     max_hy = float('-inf')\n",
    "#     max_width = 0\n",
    "#     imgs = []\n",
    "\n",
    "    for char in chars:\n",
    "        print ('...', char)\n",
    "        # Draw character\n",
    "        img = PIL.Image.new(\"L\", (w0*5, h0*3), 255) # \"L\" = 8bit pixels B+W, 255 is for white background\n",
    "        draw = PIL.ImageDraw.Draw(img)\n",
    "        draw.text((w0, h0), char, font=font)\n",
    "\n",
    "        # Get bounding box\n",
    "        diff = PIL.ImageChops.difference(img, blank)\n",
    "        lx, ly, hx, hy = diff.getbbox()\n",
    "        min_ly = min(min_ly, ly)\n",
    "        max_hy = max(max_hy, hy)\n",
    "        max_width = max(max_width, hx - lx)\n",
    "        imgs.append((lx, hx, img))\n",
    "\n",
    "#     print ('crop dims:', max_hy - min_ly, max_width)\n",
    "#     scale_factor = min(1.0 * h / (max_hy - min_ly), 1.0 * w / max_width)\n",
    "#     data = []\n",
    "\n",
    "#     for lx, hx, img in imgs:\n",
    "#         img = img.crop((lx, min_ly, hx, max_hy))\n",
    "\n",
    "#         # Resize to smaller\n",
    "#         new_width = (hx-lx) * scale_factor\n",
    "#         new_height = (max_hy - min_ly) * scale_factor\n",
    "#         img = img.resize((int(new_width), int(new_height)), PIL.Image.ANTIALIAS)\n",
    "\n",
    "#         # Expand to square\n",
    "#         img_sq = PIL.Image.new('L', (w, h), 255)\n",
    "#         offset_x = (w - new_width)/2\n",
    "#         offset_y = (h - new_height)/2\n",
    "#         print (offset_x, offset_y)\n",
    "#         img_sq.paste(img, (int(offset_x), int(offset_y)))\n",
    "\n",
    "#         # Convert to numpy array\n",
    "#         matrix = numpy.array(img_sq.getdata()).reshape((h, w))\n",
    "#         matrix = 255 - matrix\n",
    "#         data.append(matrix)\n",
    "\n",
    "#     return numpy.array(data)"
   ]
  },
  {
   "cell_type": "code",
   "execution_count": 75,
   "metadata": {},
   "outputs": [
    {
     "name": "stdout",
     "output_type": "stream",
     "text": [
      "/Users/robertomac/anaconda/pkgs/matplotlib-2.0.2-np113py36_0/lib/python3.6/site-packages/matplotlib/mpl-data/fonts/ttf/cmb10.ttf\n",
      "<PIL.ImageFont.FreeTypeFont object at 0x10b05c828>\n",
      "... a\n",
      "... b\n",
      "... c\n",
      "... d\n",
      "... e\n",
      "... f\n",
      "... g\n",
      "... h\n",
      "... i\n",
      "... j\n",
      "... k\n",
      "... l\n",
      "... m\n",
      "... n\n",
      "... o\n",
      "... p\n",
      "... q\n",
      "... r\n",
      "... s\n",
      "... t\n",
      "... u\n",
      "... v\n",
      "... w\n",
      "... x\n",
      "... y\n",
      "... z\n",
      "... A\n",
      "... B\n",
      "... C\n",
      "... D\n",
      "... E\n",
      "... F\n",
      "... G\n",
      "... H\n",
      "... I\n",
      "... J\n",
      "... K\n",
      "... L\n",
      "... M\n",
      "... N\n",
      "... O\n",
      "... P\n",
      "... Q\n",
      "... R\n",
      "... S\n",
      "... T\n",
      "... U\n",
      "... V\n",
      "... W\n",
      "... X\n",
      "... Y\n",
      "... Z\n",
      "... 0\n",
      "... 1\n",
      "... 2\n",
      "... 3\n",
      "... 4\n",
      "... 5\n",
      "... 6\n",
      "... 7\n",
      "... 8\n",
      "... 9\n",
      "... !\n",
      "... \"\n",
      "... #\n",
      "... $\n",
      "... %\n",
      "... &\n",
      "... '\n",
      "... (\n",
      "... )\n",
      "... *\n",
      "... +\n",
      "... ,\n",
      "... -\n",
      "... .\n",
      "... /\n",
      "... :\n",
      "... ;\n",
      "... <\n",
      "... =\n",
      "... >\n",
      "... ?\n",
      "... @\n",
      "... [\n",
      "... \\\n",
      "... ]\n",
      "... ^\n",
      "... _\n",
      "... `\n",
      "... {\n",
      "... |\n",
      "... }\n",
      "... ~\n"
     ]
    },
    {
     "ename": "AttributeError",
     "evalue": "'NoneType' object has no attribute 'shape'",
     "output_type": "error",
     "traceback": [
      "\u001b[0;31m---------------------------------------------------------------------------\u001b[0m",
      "\u001b[0;31mAttributeError\u001b[0m                            Traceback (most recent call last)",
      "\u001b[0;32m<ipython-input-75-de436a7905a9>\u001b[0m in \u001b[0;36m<module>\u001b[0;34m()\u001b[0m\n\u001b[1;32m      3\u001b[0m     \u001b[0mdata\u001b[0m \u001b[0;34m=\u001b[0m \u001b[0mread_font\u001b[0m\u001b[0;34m(\u001b[0m\u001b[0mfn\u001b[0m\u001b[0;34m)\u001b[0m\u001b[0;34m\u001b[0m\u001b[0m\n\u001b[1;32m      4\u001b[0m \u001b[0;34m\u001b[0m\u001b[0m\n\u001b[0;32m----> 5\u001b[0;31m     \u001b[0mprint\u001b[0m\u001b[0;34m(\u001b[0m\u001b[0mdata\u001b[0m\u001b[0;34m.\u001b[0m\u001b[0mshape\u001b[0m\u001b[0;34m)\u001b[0m\u001b[0;34m\u001b[0m\u001b[0m\n\u001b[0m\u001b[1;32m      6\u001b[0m     \u001b[0;32mbreak\u001b[0m\u001b[0;34m\u001b[0m\u001b[0m\n\u001b[1;32m      7\u001b[0m \u001b[0;31m# print('test')\u001b[0m\u001b[0;34m\u001b[0m\u001b[0;34m\u001b[0m\u001b[0m\n",
      "\u001b[0;31mAttributeError\u001b[0m: 'NoneType' object has no attribute 'shape'"
     ]
    }
   ],
   "source": [
    "for fn in get_ttfs(d = '/Users/robertomac/anaconda/pkgs/matplotlib-2.0.2-np113py36_0/lib/python3.6/site-packages/matplotlib/mpl-data/fonts/ttf'):#(d=sys.argv[1]):\n",
    "    print (fn)\n",
    "    data = read_font(fn)\n",
    "    \n",
    "    print(data.shape)\n",
    "    break\n",
    "# print('test')\n",
    "plt.imshow(data[30,:,:])"
   ]
  },
  {
   "cell_type": "code",
   "execution_count": 34,
   "metadata": {},
   "outputs": [
    {
     "data": {
      "text/plain": [
       "<generator object walk at 0x1099d1db0>"
      ]
     },
     "execution_count": 34,
     "metadata": {},
     "output_type": "execute_result"
    }
   ],
   "source": [
    "os.walk(sys.argv[1])"
   ]
  },
  {
   "cell_type": "code",
   "execution_count": 315,
   "metadata": {},
   "outputs": [
    {
     "data": {
      "image/png": "[encoded data removed]",
      "text/plain": [
       "<PIL.Image.Image image mode=L size=128x128 at 0x11020CF60>"
      ]
     },
     "execution_count": 315,
     "metadata": {},
     "output_type": "execute_result"
    }
   ],
   "source": [
    "font = ImageFont.truetype(\"/Users/robertomac/anaconda/pkgs/matplotlib-2.0.2-np113py36_0/lib/python3.6/site-packages/matplotlib/mpl-data/fonts/ttf/cmb10.ttf\", 175)\n",
    "\n",
    "# We need to make sure we scale down the fonts but preserve the vertical alignment\n",
    "min_ly = float('inf')\n",
    "max_hy = float('-inf')\n",
    "max_width = 0\n",
    "\n",
    "sx, sy = 128, 128\n",
    "from PIL import ImageFont, ImageDraw\n",
    "image = PIL.Image.new(\"L\", (sx, sy), 255)\n",
    "# img = image\n",
    "draw = ImageDraw.Draw(image)\n",
    "draw = PIL.ImageDraw.Draw(image)\n",
    "draw.text((0, 0), 'c', font=font)\n",
    "\n",
    "image"
   ]
  },
  {
   "cell_type": "code",
   "execution_count": 378,
   "metadata": {},
   "outputs": [
    {
     "data": {
      "image/png": "[encoded data removed]",
      "text/plain": [
       "<PIL.Image.Image image mode=L size=64x64 at 0x114A035C0>"
      ]
     },
     "execution_count": 378,
     "metadata": {},
     "output_type": "execute_result"
    }
   ],
   "source": [
    "image2 = image.resize((64, 64), PIL.Image.ANTIALIAS)\n",
    "image2"
   ]
  },
  {
   "cell_type": "code",
   "execution_count": 379,
   "metadata": {
    "collapsed": true
   },
   "outputs": [],
   "source": [
    "image.getdata?"
   ]
  },
  {
   "cell_type": "code",
   "execution_count": 396,
   "metadata": {},
   "outputs": [
    {
     "data": {
      "image/png": "[encoded data removed]",
      "text/plain": [
       "<matplotlib.figure.Figure at 0x10b3b6438>"
      ]
     },
     "metadata": {},
     "output_type": "display_data"
    }
   ],
   "source": [
    "matrix = numpy.array(image2.getdata()).reshape(64,64)\n",
    "plt.figure(figsize=[1,1])\n",
    "plt.imshow(matrix,cmap='gray', interpolation = 'nearest')\n",
    "plt.axis('off');"
   ]
  },
  {
   "cell_type": "code",
   "execution_count": 364,
   "metadata": {
    "collapsed": true
   },
   "outputs": [],
   "source": [
    "image2.save('test.bmp')"
   ]
  },
  {
   "cell_type": "code",
   "execution_count": 365,
   "metadata": {
    "collapsed": true
   },
   "outputs": [],
   "source": [
    "x = PIL.Image.open('test.bmp')"
   ]
  },
  {
   "cell_type": "code",
   "execution_count": 366,
   "metadata": {},
   "outputs": [
    {
     "data": {
      "text/plain": [
       "PIL.BmpImagePlugin.BmpImageFile"
      ]
     },
     "execution_count": 366,
     "metadata": {},
     "output_type": "execute_result"
    }
   ],
   "source": [
    "type(x)"
   ]
  },
  {
   "cell_type": "code",
   "execution_count": 367,
   "metadata": {
    "collapsed": true
   },
   "outputs": [],
   "source": [
    "from scipy import misc\n",
    "x=misc.imread('test.bmp')"
   ]
  },
  {
   "cell_type": "code",
   "execution_count": 370,
   "metadata": {},
   "outputs": [
    {
     "data": {
      "text/plain": [
       "(-0.5, 63.5, 63.5, -0.5)"
      ]
     },
     "execution_count": 370,
     "metadata": {},
     "output_type": "execute_result"
    },
    {
     "data": {
      "image/png": "[encoded data removed]",
      "text/plain": [
       "<matplotlib.figure.Figure at 0x1147e4940>"
      ]
     },
     "metadata": {},
     "output_type": "display_data"
    }
   ],
   "source": [
    "plt.figure(figsize=[1.5,1.5])\n",
    "plt.imshow(x,cmap='gray')\n",
    "plt.axis('off')"
   ]
  },
  {
   "cell_type": "code",
   "execution_count": null,
   "metadata": {
    "collapsed": true
   },
   "outputs": [],
   "source": []
  }
 ],
 "metadata": {
  "kernelspec": {
   "display_name": "Python 3",
   "language": "python",
   "name": "python3"
  },
  "language_info": {
   "codemirror_mode": {
    "name": "ipython",
    "version": 3
   },
   "file_extension": ".py",
   "mimetype": "text/x-python",
   "name": "python",
   "nbconvert_exporter": "python",
   "pygments_lexer": "ipython3",
   "version": "3.6.0"
  }
 },
 "nbformat": 4,
 "nbformat_minor": 2
}

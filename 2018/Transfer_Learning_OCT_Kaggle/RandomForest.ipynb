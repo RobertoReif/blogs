{
 "cells": [
  {
   "cell_type": "code",
   "execution_count": null,
   "metadata": {},
   "outputs": [],
   "source": [
    "from keras.applications import VGG16\n",
    "import pandas as pd\n",
    "import numpy as np\n",
    "import matplotlib.pyplot as plt\n",
    "from skimage.transform import resize\n",
    "from keras.applications.imagenet_utils import preprocess_input, decode_predictions\n",
    "from keras.models import Model\n",
    "from sklearn.metrics.pairwise import euclidean_distances\n",
    "import cv2\n",
    "\n",
    "%matplotlib inline"
   ]
  },
  {
   "cell_type": "markdown",
   "metadata": {},
   "source": [
    "# 1. Loading data, extracting features and saving output as csv file"
   ]
  },
  {
   "cell_type": "markdown",
   "metadata": {},
   "source": [
    "Initialize the VGG16 Model with the ImageNet weights.  We include the top layer as well!"
   ]
  },
  {
   "cell_type": "code",
   "execution_count": null,
   "metadata": {},
   "outputs": [],
   "source": [
    "# load VGG16\n",
    "# Get back the convolutional part of a VGG network trained on ImageNet\n",
    "model = VGG16(weights='imagenet', include_top=True)"
   ]
  },
  {
   "cell_type": "code",
   "execution_count": null,
   "metadata": {},
   "outputs": [],
   "source": [
    "model.summary()"
   ]
  },
  {
   "cell_type": "markdown",
   "metadata": {},
   "source": [
    "Model that extracts the 4096 output features from the fully connected layer 1 (fc1)"
   ]
  },
  {
   "cell_type": "code",
   "execution_count": null,
   "metadata": {},
   "outputs": [],
   "source": [
    "model_fc1 = Model(input=model.input, output=model.get_layer('fc1').output) # gets the output in fc1\n",
    "# model_fc1 = Model(input=model.input, output=model.get_layer('flatten').output) # gets the output in flatten"
   ]
  },
  {
   "cell_type": "code",
   "execution_count": null,
   "metadata": {},
   "outputs": [],
   "source": [
    "model_fc1.summary()"
   ]
  },
  {
   "cell_type": "markdown",
   "metadata": {},
   "source": [
    "Helper function which reads an image.  It resizes the image to 224 x 224 x 3 and preprocess the image."
   ]
  },
  {
   "cell_type": "code",
   "execution_count": null,
   "metadata": {},
   "outputs": [],
   "source": [
    "def image_pre_process(img_file):\n",
    "    img = cv2.imread(img_file)\n",
    "\n",
    "    # resizes the image\n",
    "    img = resize(img, (224, 224), preserve_range=True).astype(np.float32)\n",
    "    img = np.expand_dims(img, axis=0)\n",
    "    img = preprocess_input(img)\n",
    "    return img"
   ]
  },
  {
   "cell_type": "markdown",
   "metadata": {},
   "source": [
    "Function that extracts the list of images, preprocesses the image, extracts the 4096 features and saves in a list."
   ]
  },
  {
   "cell_type": "code",
   "execution_count": null,
   "metadata": {},
   "outputs": [],
   "source": [
    "def process(retina_list,loc,disease):\n",
    "    out1=[]\n",
    "    for i in range(len(retina_list)):#range(8616):\n",
    "        print(i)\n",
    "        name = loc + retina_list[i]\n",
    "        if name[-4:]=='jpeg':\n",
    "            im = image_pre_process(name)\n",
    "            \n",
    "            # fc1\n",
    "            out = model_fc1.predict(im)\n",
    "            out = list(out[0])\n",
    "            out.append(retina_list[i])\n",
    "            out.append(disease)\n",
    "            out1.append(out)\n",
    "                        \n",
    "    return out1"
   ]
  },
  {
   "cell_type": "markdown",
   "metadata": {},
   "source": [
    "Gets the list of images from the 4 folders on the Testing Set."
   ]
  },
  {
   "cell_type": "code",
   "execution_count": null,
   "metadata": {},
   "outputs": [],
   "source": [
    "output_fc1_test=[]\n",
    "\n",
    "retina_list = !ls OCT2017\\ /test/CNV\n",
    "fc1 = process(retina_list,'OCT2017 /test/CNV/','CNV')\n",
    "output_fc1_test.append(fc1)\n",
    "\n",
    "retina_list = !ls OCT2017\\ /test/DME\n",
    "fc1 = process(retina_list,'OCT2017 /test/DME/','DME')\n",
    "output_fc1_test.append(fc1)\n",
    "\n",
    "retina_list = !ls OCT2017\\ /test/DRUSEN\n",
    "fc1 = process(retina_list,'OCT2017 /test/DRUSEN/','DRUSEN')\n",
    "output_fc1_test.append(fc1)\n",
    "\n",
    "retina_list = !ls OCT2017\\ /test/NORMAL\n",
    "fc1 = process(retina_list,'OCT2017 /test/NORMAL/','NORMAL')\n",
    "output_fc1_test.append(fc1)"
   ]
  },
  {
   "cell_type": "markdown",
   "metadata": {},
   "source": [
    "Gets the list of images from the 4 folders on the Training Set."
   ]
  },
  {
   "cell_type": "code",
   "execution_count": null,
   "metadata": {
    "scrolled": true
   },
   "outputs": [],
   "source": [
    "output_fc1_train=[]\n",
    "\n",
    "retina_list = !ls OCT2017\\ /train/CNV\n",
    "fc1 = process(retina_list,'OCT2017 /train/CNV/','CNV')\n",
    "output_fc1_train.append(fc1)\n",
    "\n",
    "retina_list = !ls OCT2017\\ /train/DME\n",
    "fc1 = process(retina_list,'OCT2017 /train/DME/','DME')\n",
    "output_fc1_train.append(fc1)\n",
    "\n",
    "retina_list = !ls OCT2017\\ /train/DRUSEN\n",
    "fc1 = process(retina_list,'OCT2017 /train/DRUSEN/','DRUSEN')\n",
    "output_fc1_train.append(fc1)\n",
    "\n",
    "retina_list = !ls OCT2017\\ /train/NORMAL\n",
    "fc1 = process(retina_list,'OCT2017 /train/NORMAL/','NORMAL')\n",
    "output_fc1_train.append(fc1)"
   ]
  },
  {
   "cell_type": "markdown",
   "metadata": {},
   "source": [
    "Function that flattens the list, converts to a Pandas DataFrame and saves as a csv file."
   ]
  },
  {
   "cell_type": "code",
   "execution_count": null,
   "metadata": {},
   "outputs": [],
   "source": [
    "def flatten_save(output_fc1, filename):\n",
    "    newlist_fc1 = [item for items in output_fc1 for item in items]\n",
    "    print('The data set has',len(newlist_fc1),'rows.')\n",
    "    res_fc1 = pd.DataFrame(newlist_fc1)\n",
    "    print(res_fc1.sample(2))\n",
    "    res_fc1.to_csv(filename)"
   ]
  },
  {
   "cell_type": "markdown",
   "metadata": {},
   "source": [
    "Saves the test csv file."
   ]
  },
  {
   "cell_type": "code",
   "execution_count": null,
   "metadata": {},
   "outputs": [],
   "source": [
    "flatten_save(output_fc1_test, 'Features_Test_fc1.csv')"
   ]
  },
  {
   "cell_type": "markdown",
   "metadata": {},
   "source": [
    "Saves the train csv file"
   ]
  },
  {
   "cell_type": "code",
   "execution_count": null,
   "metadata": {},
   "outputs": [],
   "source": [
    "flatten_save(output_fc1_train, 'Features_Train_fc1.csv')"
   ]
  },
  {
   "cell_type": "markdown",
   "metadata": {},
   "source": [
    "# 2. Load data from csv file, balance the number of sample, apply dimensionality reduction and build Random Forest Classifier"
   ]
  },
  {
   "cell_type": "code",
   "execution_count": 1,
   "metadata": {},
   "outputs": [
    {
     "name": "stderr",
     "output_type": "stream",
     "text": [
      "/home/ubuntu/anaconda3/envs/tensorflow_p36/lib/python3.6/site-packages/matplotlib/__init__.py:1067: UserWarning: Duplicate key in file \"/home/ubuntu/.config/matplotlib/matplotlibrc\", line #2\n",
      "  (fname, cnt))\n",
      "/home/ubuntu/anaconda3/envs/tensorflow_p36/lib/python3.6/site-packages/matplotlib/__init__.py:1067: UserWarning: Duplicate key in file \"/home/ubuntu/.config/matplotlib/matplotlibrc\", line #3\n",
      "  (fname, cnt))\n"
     ]
    }
   ],
   "source": [
    "import pandas as pd\n",
    "import numpy as np\n",
    "import matplotlib.pyplot as plt\n",
    "from sklearn.model_selection import train_test_split\n",
    "from sklearn.ensemble import RandomForestClassifier\n",
    "from sklearn.ensemble import GradientBoostingClassifier\n",
    "from sklearn.metrics import accuracy_score\n",
    "from sklearn.metrics import confusion_matrix\n",
    "import itertools\n",
    "from sklearn.decomposition import PCA\n",
    "from sklearn.model_selection import GridSearchCV\n",
    "from sklearn.metrics import roc_curve, auc\n",
    "from sklearn.metrics import f1_score\n",
    "\n",
    "%matplotlib inline\n",
    "%config InlineBackend.figure_format = 'retina'"
   ]
  },
  {
   "cell_type": "markdown",
   "metadata": {},
   "source": [
    "Load train data"
   ]
  },
  {
   "cell_type": "code",
   "execution_count": 2,
   "metadata": {},
   "outputs": [],
   "source": [
    "res_train = pd.read_csv('Features_Train_fc1.csv')"
   ]
  },
  {
   "cell_type": "markdown",
   "metadata": {},
   "source": [
    "The data is biased, so we will downsample to get an even number of samples per class."
   ]
  },
  {
   "cell_type": "code",
   "execution_count": 3,
   "metadata": {},
   "outputs": [
    {
     "name": "stdout",
     "output_type": "stream",
     "text": [
      "8616\n"
     ]
    },
    {
     "data": {
      "image/png": "[encoded data removed]",
      "text/plain": [
       "<Figure size 432x288 with 1 Axes>"
      ]
     },
     "metadata": {
      "image/png": {
       "height": 250,
       "width": 390
      }
     },
     "output_type": "display_data"
    }
   ],
   "source": [
    "def data_hist(df):\n",
    "    vals = df.iloc[:,-1].value_counts().values\n",
    "    ind = df.iloc[:,-1].value_counts().index\n",
    "    plt.bar(range(len(ind)),vals,tick_label = ind)\n",
    "    return min(vals)\n",
    "min_sample = data_hist(res_train)\n",
    "print(min_sample)"
   ]
  },
  {
   "cell_type": "markdown",
   "metadata": {},
   "source": [
    "We will only get the first 8616 samples from each group."
   ]
  },
  {
   "cell_type": "code",
   "execution_count": 4,
   "metadata": {},
   "outputs": [
    {
     "data": {
      "text/plain": [
       "8616"
      ]
     },
     "execution_count": 4,
     "metadata": {},
     "output_type": "execute_result"
    },
    {
     "data": {
      "image/png": "[encoded data removed]",
      "text/plain": [
       "<Figure size 432x288 with 1 Axes>"
      ]
     },
     "metadata": {
      "image/png": {
       "height": 250,
       "width": 383
      }
     },
     "output_type": "display_data"
    }
   ],
   "source": [
    "res2 = res_train[res_train.iloc[:,-1]=='CNV'].iloc[:min_sample]\n",
    "res2 = pd.concat([res2,res_train[res_train.iloc[:,-1]=='NORMAL'].iloc[:min_sample]])\n",
    "res2 = pd.concat([res2,res_train[res_train.iloc[:,-1]=='DME'].iloc[:min_sample]])\n",
    "res2 = pd.concat([res2,res_train[res_train.iloc[:,-1]=='DRUSEN'].iloc[:min_sample]])\n",
    "res = res2\n",
    "data_hist(res)"
   ]
  },
  {
   "cell_type": "markdown",
   "metadata": {},
   "source": [
    "Separate the X and y"
   ]
  },
  {
   "cell_type": "code",
   "execution_count": 5,
   "metadata": {},
   "outputs": [
    {
     "name": "stdout",
     "output_type": "stream",
     "text": [
      "NORMAL    8616\n",
      "CNV       8616\n",
      "DRUSEN    8616\n",
      "DME       8616\n",
      "Name: 4097, dtype: int64\n"
     ]
    }
   ],
   "source": [
    "def separate_XY(res):\n",
    "    X = res.copy()\n",
    "    X.drop(['Unnamed: 0','4096','4097'],axis=1, inplace=True)\n",
    "#     X.drop(['Unnamed: 0','25088','25089'],axis=1, inplace=True)\n",
    "    y = res.iloc[:,-1].copy()\n",
    "    print(y.value_counts())\n",
    "    return X, y\n",
    "\n",
    "X_train, y_train = separate_XY(res)"
   ]
  },
  {
   "cell_type": "markdown",
   "metadata": {},
   "source": [
    "Loads the test data"
   ]
  },
  {
   "cell_type": "code",
   "execution_count": 6,
   "metadata": {},
   "outputs": [],
   "source": [
    "res = pd.read_csv('Features_Test_fc1.csv')"
   ]
  },
  {
   "cell_type": "code",
   "execution_count": 7,
   "metadata": {},
   "outputs": [
    {
     "data": {
      "text/plain": [
       "242"
      ]
     },
     "execution_count": 7,
     "metadata": {},
     "output_type": "execute_result"
    },
    {
     "data": {
      "image/png": "[encoded data removed]",
      "text/plain": [
       "<Figure size 432x288 with 1 Axes>"
      ]
     },
     "metadata": {
      "image/png": {
       "height": 250,
       "width": 377
      }
     },
     "output_type": "display_data"
    }
   ],
   "source": [
    "data_hist(res)"
   ]
  },
  {
   "cell_type": "code",
   "execution_count": 8,
   "metadata": {},
   "outputs": [
    {
     "name": "stdout",
     "output_type": "stream",
     "text": [
      "DRUSEN    242\n",
      "CNV       242\n",
      "DME       242\n",
      "NORMAL    242\n",
      "Name: 4097, dtype: int64\n"
     ]
    }
   ],
   "source": [
    "X_test, y_test = separate_XY(res)"
   ]
  },
  {
   "cell_type": "markdown",
   "metadata": {},
   "source": [
    "### Dimensionality Reduction"
   ]
  },
  {
   "cell_type": "code",
   "execution_count": 9,
   "metadata": {},
   "outputs": [],
   "source": [
    "n_components=200\n",
    "pca_model = PCA(n_components=n_components)\n",
    "X_train = pca_model.fit_transform(X_train)\n",
    "X_test = pca_model.transform(X_test)"
   ]
  },
  {
   "cell_type": "code",
   "execution_count": 10,
   "metadata": {},
   "outputs": [
    {
     "data": {
      "image/png": "[encoded data removed]",
      "text/plain": [
       "<Figure size 432x432 with 1 Axes>"
      ]
     },
     "metadata": {
      "image/png": {
       "height": 391,
       "width": 418
      }
     },
     "output_type": "display_data"
    }
   ],
   "source": [
    "PCA_var = pca_model.explained_variance_ratio_\n",
    "PCA_var=np.insert(PCA_var,0,0)\n",
    "PCA_var_cumsum = np.cumsum(PCA_var)\n",
    "\n",
    "loc = 150\n",
    "plt.rc('xtick', labelsize=15) \n",
    "plt.rc('ytick', labelsize=15) \n",
    "plt.figure(figsize=[6,6])\n",
    "plt.plot(PCA_var_cumsum,'r',linewidth=2)\n",
    "plt.plot([loc,loc],[0,1],'k--')\n",
    "plt.plot([0,n_components],[PCA_var_cumsum[loc],PCA_var_cumsum[loc]],'k--')\n",
    "plt.axis([0,n_components,0,1])\n",
    "plt.xlabel('Principal Components',fontsize=20)\n",
    "plt.ylabel('Ratio of Total Variance',fontsize=20)\n",
    "plt.savefig('PCA.jpg')"
   ]
  },
  {
   "cell_type": "code",
   "execution_count": 11,
   "metadata": {},
   "outputs": [
    {
     "name": "stdout",
     "output_type": "stream",
     "text": [
      "Variance with 150 PCs : 0.789177909224634\n"
     ]
    }
   ],
   "source": [
    "print('Variance with 150 PCs :',PCA_var_cumsum[150])"
   ]
  },
  {
   "cell_type": "markdown",
   "metadata": {},
   "source": [
    "Apply PCA on both the train and test set using 150 components."
   ]
  },
  {
   "cell_type": "code",
   "execution_count": 12,
   "metadata": {},
   "outputs": [],
   "source": [
    "n_components=150\n",
    "pca_model = PCA(n_components=n_components)\n",
    "X_train = pca_model.fit_transform(X_train)\n",
    "X_test = pca_model.transform(X_test)"
   ]
  },
  {
   "cell_type": "markdown",
   "metadata": {},
   "source": [
    "### Building Random Forest Classifier"
   ]
  },
  {
   "cell_type": "code",
   "execution_count": 13,
   "metadata": {},
   "outputs": [
    {
     "name": "stdout",
     "output_type": "stream",
     "text": [
      "0.9493801652892562\n"
     ]
    }
   ],
   "source": [
    "# rf = RandomForestClassifier(max_depth = 25, n_estimators = 500,random_state=42)\n",
    "rf = RandomForestClassifier(n_estimators = 500,random_state=42)\n",
    "\n",
    "rf.fit(X_train,y_train)\n",
    "y_pred = rf.predict(X_test)\n",
    "print(accuracy_score(y_test, y_pred))"
   ]
  },
  {
   "cell_type": "code",
   "execution_count": null,
   "metadata": {},
   "outputs": [],
   "source": []
  },
  {
   "cell_type": "code",
   "execution_count": null,
   "metadata": {},
   "outputs": [],
   "source": [
    "# Create the parameter grid based on the results of random search \n",
    "param_grid = {\n",
    "    'bootstrap': [True],\n",
    "    'n_estimators': [100, 200, 300, 400, 500, 600, 700, 800, 900, 1000],\n",
    "}"
   ]
  },
  {
   "cell_type": "code",
   "execution_count": null,
   "metadata": {},
   "outputs": [],
   "source": [
    "# Create a based model\n",
    "rf = RandomForestClassifier(random_state=42)\n",
    "\n",
    "# Instantiate the grid search model\n",
    "grid_search = GridSearchCV(estimator = rf, param_grid = param_grid, \n",
    "                          cv = 5, n_jobs = -1, verbose = 2)"
   ]
  },
  {
   "cell_type": "code",
   "execution_count": null,
   "metadata": {},
   "outputs": [],
   "source": [
    "# Fit the grid search to the data\n",
    "grid_search.fit(X_train, y_train)\n",
    "grid_search.best_params_"
   ]
  },
  {
   "cell_type": "code",
   "execution_count": null,
   "metadata": {},
   "outputs": [],
   "source": [
    "best_grid = grid_search.best_estimator_\n",
    "y_pred = best_grid.predict(X_test)"
   ]
  },
  {
   "cell_type": "code",
   "execution_count": null,
   "metadata": {},
   "outputs": [],
   "source": [
    "grid_accuracy = accuracy_score(y_test, y_pred)\n",
    "print(grid_accuracy)"
   ]
  },
  {
   "cell_type": "code",
   "execution_count": null,
   "metadata": {},
   "outputs": [],
   "source": []
  },
  {
   "cell_type": "code",
   "execution_count": null,
   "metadata": {},
   "outputs": [],
   "source": []
  }
 ],
 "metadata": {
  "kernelspec": {
   "display_name": "Python 3",
   "language": "python",
   "name": "python3"
  },
  "language_info": {
   "codemirror_mode": {
    "name": "ipython",
    "version": 3
   },
   "file_extension": ".py",
   "mimetype": "text/x-python",
   "name": "python",
   "nbconvert_exporter": "python",
   "pygments_lexer": "ipython3",
   "version": "3.6.4"
  }
 },
 "nbformat": 4,
 "nbformat_minor": 2
}

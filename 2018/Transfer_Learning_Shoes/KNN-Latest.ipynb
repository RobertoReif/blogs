{
 "cells": [
  {
   "cell_type": "code",
   "execution_count": 1,
   "metadata": {
    "collapsed": true
   },
   "outputs": [],
   "source": [
    "import pandas as pd\n",
    "import numpy as np\n",
    "import matplotlib.pyplot as plt\n",
    "import matplotlib.image as mpimg\n",
    "from sklearn.neighbors import NearestNeighbors\n",
    "\n",
    "%matplotlib inline"
   ]
  },
  {
   "cell_type": "markdown",
   "metadata": {},
   "source": [
    "### Read the shoe data"
   ]
  },
  {
   "cell_type": "code",
   "execution_count": 2,
   "metadata": {
    "collapsed": true
   },
   "outputs": [],
   "source": [
    "shoe_data = pd.read_csv('Shoes.csv',encoding = \"ISO-8859-1\")"
   ]
  },
  {
   "cell_type": "code",
   "execution_count": 3,
   "metadata": {},
   "outputs": [
    {
     "data": {
      "text/plain": [
       "Women     11100\n",
       "Men        7253\n",
       "Girls      2659\n",
       "Boys       2546\n",
       "Womens     1008\n",
       "Mens        595\n",
       "Unisex       96\n",
       "Name: Gender, dtype: int64"
      ]
     },
     "execution_count": 3,
     "metadata": {},
     "output_type": "execute_result"
    }
   ],
   "source": [
    "x = shoe_data['Gender']\n",
    "x.value_counts()"
   ]
  },
  {
   "cell_type": "markdown",
   "metadata": {},
   "source": [
    "### Filters the Data by Women, Men, Girls, Boys and Unisex"
   ]
  },
  {
   "cell_type": "code",
   "execution_count": 4,
   "metadata": {
    "collapsed": true
   },
   "outputs": [],
   "source": [
    "# Women\n",
    "Women_Data = shoe_data[(shoe_data['Gender']=='Women') | \n",
    "                       (shoe_data['Gender']=='Womens')] \n",
    "Women_Data['Gender'].value_counts()\n",
    "Women_Shoes = Women_Data['Row'] # number for the shoes\n",
    "\n",
    "# Men\n",
    "Men_Data = shoe_data[(shoe_data['Gender']=='Men') | \n",
    "                       (shoe_data['Gender']=='Mens')] \n",
    "Men_Data['Gender'].value_counts()\n",
    "Men_Shoes = Men_Data['Row']\n",
    "\n",
    "# Girls\n",
    "Girls_Data = shoe_data[(shoe_data['Gender']=='Girls')] \n",
    "Girls_Data['Gender'].value_counts()\n",
    "Girls_Shoes = Girls_Data['Row']\n",
    "\n",
    "# Boys\n",
    "Boys_Data = shoe_data[(shoe_data['Gender']=='Boys')] \n",
    "Boys_Data['Gender'].value_counts()\n",
    "Boys_Shoes = Boys_Data['Row']\n",
    "\n",
    "# Unisex\n",
    "Unisex_Data = shoe_data[(shoe_data['Gender']=='Unisex')] \n",
    "Unisex_Data['Gender'].value_counts()\n",
    "Unisex_Shoes = Unisex_Data['Row']"
   ]
  },
  {
   "cell_type": "markdown",
   "metadata": {},
   "source": [
    "### Read the Feature Data"
   ]
  },
  {
   "cell_type": "code",
   "execution_count": 5,
   "metadata": {},
   "outputs": [
    {
     "data": {
      "text/html": [
       "<div>\n",
       "<style>\n",
       "    .dataframe thead tr:only-child th {\n",
       "        text-align: right;\n",
       "    }\n",
       "\n",
       "    .dataframe thead th {\n",
       "        text-align: left;\n",
       "    }\n",
       "\n",
       "    .dataframe tbody tr th {\n",
       "        vertical-align: top;\n",
       "    }\n",
       "</style>\n",
       "<table border=\"1\" class=\"dataframe\">\n",
       "  <thead>\n",
       "    <tr style=\"text-align: right;\">\n",
       "      <th></th>\n",
       "      <th>shoe_number</th>\n",
       "      <th>0</th>\n",
       "      <th>1</th>\n",
       "      <th>2</th>\n",
       "      <th>3</th>\n",
       "      <th>4</th>\n",
       "      <th>5</th>\n",
       "      <th>6</th>\n",
       "      <th>7</th>\n",
       "      <th>8</th>\n",
       "      <th>...</th>\n",
       "      <th>4086</th>\n",
       "      <th>4087</th>\n",
       "      <th>4088</th>\n",
       "      <th>4089</th>\n",
       "      <th>4090</th>\n",
       "      <th>4091</th>\n",
       "      <th>4092</th>\n",
       "      <th>4093</th>\n",
       "      <th>4094</th>\n",
       "      <th>4095</th>\n",
       "    </tr>\n",
       "  </thead>\n",
       "  <tbody>\n",
       "    <tr>\n",
       "      <th>25253</th>\n",
       "      <td>25253</td>\n",
       "      <td>0.000000</td>\n",
       "      <td>0.00000</td>\n",
       "      <td>2.822442</td>\n",
       "      <td>0.000000</td>\n",
       "      <td>0.0</td>\n",
       "      <td>1.100513</td>\n",
       "      <td>0.0</td>\n",
       "      <td>3.466933</td>\n",
       "      <td>0.0</td>\n",
       "      <td>...</td>\n",
       "      <td>0.0</td>\n",
       "      <td>2.238948</td>\n",
       "      <td>0.0</td>\n",
       "      <td>2.618712</td>\n",
       "      <td>0.0</td>\n",
       "      <td>0.000000</td>\n",
       "      <td>0.0</td>\n",
       "      <td>2.934636</td>\n",
       "      <td>0.0</td>\n",
       "      <td>1.678181</td>\n",
       "    </tr>\n",
       "    <tr>\n",
       "      <th>25254</th>\n",
       "      <td>25254</td>\n",
       "      <td>0.000000</td>\n",
       "      <td>1.06385</td>\n",
       "      <td>0.183473</td>\n",
       "      <td>1.444844</td>\n",
       "      <td>0.0</td>\n",
       "      <td>0.563876</td>\n",
       "      <td>0.0</td>\n",
       "      <td>0.558887</td>\n",
       "      <td>0.0</td>\n",
       "      <td>...</td>\n",
       "      <td>0.0</td>\n",
       "      <td>0.492249</td>\n",
       "      <td>0.0</td>\n",
       "      <td>3.365807</td>\n",
       "      <td>0.0</td>\n",
       "      <td>0.000000</td>\n",
       "      <td>0.0</td>\n",
       "      <td>2.263286</td>\n",
       "      <td>0.0</td>\n",
       "      <td>0.000000</td>\n",
       "    </tr>\n",
       "    <tr>\n",
       "      <th>25255</th>\n",
       "      <td>25255</td>\n",
       "      <td>0.050072</td>\n",
       "      <td>0.00000</td>\n",
       "      <td>2.465157</td>\n",
       "      <td>0.000000</td>\n",
       "      <td>0.0</td>\n",
       "      <td>0.282674</td>\n",
       "      <td>0.0</td>\n",
       "      <td>0.000000</td>\n",
       "      <td>0.0</td>\n",
       "      <td>...</td>\n",
       "      <td>0.0</td>\n",
       "      <td>0.197933</td>\n",
       "      <td>0.0</td>\n",
       "      <td>3.513182</td>\n",
       "      <td>0.0</td>\n",
       "      <td>2.358734</td>\n",
       "      <td>0.0</td>\n",
       "      <td>5.324767</td>\n",
       "      <td>0.0</td>\n",
       "      <td>0.630338</td>\n",
       "    </tr>\n",
       "    <tr>\n",
       "      <th>25256</th>\n",
       "      <td>25256</td>\n",
       "      <td>0.000000</td>\n",
       "      <td>0.00000</td>\n",
       "      <td>3.475690</td>\n",
       "      <td>0.000000</td>\n",
       "      <td>0.0</td>\n",
       "      <td>0.000000</td>\n",
       "      <td>0.0</td>\n",
       "      <td>0.000000</td>\n",
       "      <td>0.0</td>\n",
       "      <td>...</td>\n",
       "      <td>0.0</td>\n",
       "      <td>0.531141</td>\n",
       "      <td>0.0</td>\n",
       "      <td>5.769824</td>\n",
       "      <td>0.0</td>\n",
       "      <td>0.000000</td>\n",
       "      <td>0.0</td>\n",
       "      <td>4.421978</td>\n",
       "      <td>0.0</td>\n",
       "      <td>2.824965</td>\n",
       "    </tr>\n",
       "    <tr>\n",
       "      <th>25257</th>\n",
       "      <td>25257</td>\n",
       "      <td>0.000000</td>\n",
       "      <td>0.00000</td>\n",
       "      <td>0.173585</td>\n",
       "      <td>0.000000</td>\n",
       "      <td>0.0</td>\n",
       "      <td>0.000000</td>\n",
       "      <td>0.0</td>\n",
       "      <td>5.833847</td>\n",
       "      <td>0.0</td>\n",
       "      <td>...</td>\n",
       "      <td>0.0</td>\n",
       "      <td>2.430494</td>\n",
       "      <td>0.0</td>\n",
       "      <td>5.797440</td>\n",
       "      <td>0.0</td>\n",
       "      <td>1.900185</td>\n",
       "      <td>0.0</td>\n",
       "      <td>2.878265</td>\n",
       "      <td>0.0</td>\n",
       "      <td>0.000000</td>\n",
       "    </tr>\n",
       "  </tbody>\n",
       "</table>\n",
       "<p>5 rows × 4097 columns</p>\n",
       "</div>"
      ],
      "text/plain": [
       "       shoe_number         0        1         2         3    4         5    6  \\\n",
       "25253        25253  0.000000  0.00000  2.822442  0.000000  0.0  1.100513  0.0   \n",
       "25254        25254  0.000000  1.06385  0.183473  1.444844  0.0  0.563876  0.0   \n",
       "25255        25255  0.050072  0.00000  2.465157  0.000000  0.0  0.282674  0.0   \n",
       "25256        25256  0.000000  0.00000  3.475690  0.000000  0.0  0.000000  0.0   \n",
       "25257        25257  0.000000  0.00000  0.173585  0.000000  0.0  0.000000  0.0   \n",
       "\n",
       "              7    8    ...     4086      4087  4088      4089  4090  \\\n",
       "25253  3.466933  0.0    ...      0.0  2.238948   0.0  2.618712   0.0   \n",
       "25254  0.558887  0.0    ...      0.0  0.492249   0.0  3.365807   0.0   \n",
       "25255  0.000000  0.0    ...      0.0  0.197933   0.0  3.513182   0.0   \n",
       "25256  0.000000  0.0    ...      0.0  0.531141   0.0  5.769824   0.0   \n",
       "25257  5.833847  0.0    ...      0.0  2.430494   0.0  5.797440   0.0   \n",
       "\n",
       "           4091  4092      4093  4094      4095  \n",
       "25253  0.000000   0.0  2.934636   0.0  1.678181  \n",
       "25254  0.000000   0.0  2.263286   0.0  0.000000  \n",
       "25255  2.358734   0.0  5.324767   0.0  0.630338  \n",
       "25256  0.000000   0.0  4.421978   0.0  2.824965  \n",
       "25257  1.900185   0.0  2.878265   0.0  0.000000  \n",
       "\n",
       "[5 rows x 4097 columns]"
      ]
     },
     "execution_count": 5,
     "metadata": {},
     "output_type": "execute_result"
    }
   ],
   "source": [
    "df = pd.read_csv('features.csv')\n",
    "df.tail()"
   ]
  },
  {
   "cell_type": "code",
   "execution_count": 6,
   "metadata": {
    "collapsed": true
   },
   "outputs": [],
   "source": [
    "# uses the shoe number as the index\n",
    "df.set_index('shoe_number',inplace=True)"
   ]
  },
  {
   "cell_type": "code",
   "execution_count": 7,
   "metadata": {
    "collapsed": true
   },
   "outputs": [],
   "source": [
    "Women_Features = df.loc[Women_Shoes]\n",
    "Men_Features = df.loc[Men_Shoes]\n",
    "Girls_Features = df.loc[Girls_Shoes]\n",
    "Boys_Features = df.loc[Boys_Shoes]\n",
    "Unisex_Features = df.loc[Unisex_Shoes]\n",
    "\n",
    "# Women_Features.head()"
   ]
  },
  {
   "cell_type": "markdown",
   "metadata": {},
   "source": [
    "### Build the Model"
   ]
  },
  {
   "cell_type": "code",
   "execution_count": 8,
   "metadata": {
    "collapsed": true
   },
   "outputs": [],
   "source": [
    "eucl_W = NearestNeighbors(n_neighbors=4,metric='euclidean').fit(Women_Features)\n",
    "eucl_M = NearestNeighbors(n_neighbors=4,metric='euclidean').fit(Men_Features)\n",
    "eucl_G = NearestNeighbors(n_neighbors=4,metric='euclidean').fit(Girls_Features)\n",
    "eucl_B = NearestNeighbors(n_neighbors=4,metric='euclidean').fit(Boys_Features)\n",
    "eucl_U = NearestNeighbors(n_neighbors=4,metric='euclidean').fit(Unisex_Features)"
   ]
  },
  {
   "cell_type": "markdown",
   "metadata": {},
   "source": [
    "### Fit the Model"
   ]
  },
  {
   "cell_type": "code",
   "execution_count": 9,
   "metadata": {
    "collapsed": true
   },
   "outputs": [],
   "source": [
    "distances, indices_W = eucl_W.kneighbors(Women_Features)"
   ]
  },
  {
   "cell_type": "code",
   "execution_count": 10,
   "metadata": {
    "collapsed": true
   },
   "outputs": [],
   "source": [
    "distances, indices_M = eucl_M.kneighbors(Men_Features)"
   ]
  },
  {
   "cell_type": "code",
   "execution_count": 11,
   "metadata": {
    "collapsed": true
   },
   "outputs": [],
   "source": [
    "distances, indices_G = eucl_G.kneighbors(Girls_Features)\n",
    "distances, indices_B = eucl_B.kneighbors(Boys_Features)\n",
    "distances, indices_U = eucl_U.kneighbors(Unisex_Features)"
   ]
  },
  {
   "cell_type": "markdown",
   "metadata": {},
   "source": [
    "### Converts the Indices to Shoe Number"
   ]
  },
  {
   "cell_type": "code",
   "execution_count": 12,
   "metadata": {
    "collapsed": true
   },
   "outputs": [],
   "source": [
    "Data_Wom = pd.DataFrame(np.array(Women_Features.index[indices_W]))\n",
    "Data_Men = pd.DataFrame(np.array(Men_Features.index[indices_M]))\n",
    "Data_Gir = pd.DataFrame(np.array(Girls_Features.index[indices_G]))\n",
    "Data_Boy = pd.DataFrame(np.array(Boys_Features.index[indices_B]))\n",
    "Data_Uni = pd.DataFrame(np.array(Unisex_Features.index[indices_U]))"
   ]
  },
  {
   "cell_type": "markdown",
   "metadata": {},
   "source": [
    "### Concatenates the Data and Saves the csv"
   ]
  },
  {
   "cell_type": "code",
   "execution_count": 13,
   "metadata": {
    "collapsed": true
   },
   "outputs": [],
   "source": [
    "Final_Data = pd.concat([Data_Wom,Data_Men,Data_Gir,Data_Boy,Data_Uni], ignore_index=True)"
   ]
  },
  {
   "cell_type": "code",
   "execution_count": 14,
   "metadata": {},
   "outputs": [
    {
     "data": {
      "text/html": [
       "<div>\n",
       "<style>\n",
       "    .dataframe thead tr:only-child th {\n",
       "        text-align: right;\n",
       "    }\n",
       "\n",
       "    .dataframe thead th {\n",
       "        text-align: left;\n",
       "    }\n",
       "\n",
       "    .dataframe tbody tr th {\n",
       "        vertical-align: top;\n",
       "    }\n",
       "</style>\n",
       "<table border=\"1\" class=\"dataframe\">\n",
       "  <thead>\n",
       "    <tr style=\"text-align: right;\">\n",
       "      <th></th>\n",
       "      <th>0</th>\n",
       "      <th>1</th>\n",
       "      <th>2</th>\n",
       "      <th>3</th>\n",
       "    </tr>\n",
       "  </thead>\n",
       "  <tbody>\n",
       "    <tr>\n",
       "      <th>0</th>\n",
       "      <td>1</td>\n",
       "      <td>15789</td>\n",
       "      <td>12704</td>\n",
       "      <td>517</td>\n",
       "    </tr>\n",
       "    <tr>\n",
       "      <th>1</th>\n",
       "      <td>2</td>\n",
       "      <td>5385</td>\n",
       "      <td>9</td>\n",
       "      <td>3695</td>\n",
       "    </tr>\n",
       "    <tr>\n",
       "      <th>2</th>\n",
       "      <td>3</td>\n",
       "      <td>12865</td>\n",
       "      <td>3376</td>\n",
       "      <td>3130</td>\n",
       "    </tr>\n",
       "    <tr>\n",
       "      <th>3</th>\n",
       "      <td>4</td>\n",
       "      <td>21493</td>\n",
       "      <td>25038</td>\n",
       "      <td>3124</td>\n",
       "    </tr>\n",
       "    <tr>\n",
       "      <th>4</th>\n",
       "      <td>5</td>\n",
       "      <td>1349</td>\n",
       "      <td>16917</td>\n",
       "      <td>1338</td>\n",
       "    </tr>\n",
       "  </tbody>\n",
       "</table>\n",
       "</div>"
      ],
      "text/plain": [
       "   0      1      2     3\n",
       "0  1  15789  12704   517\n",
       "1  2   5385      9  3695\n",
       "2  3  12865   3376  3130\n",
       "3  4  21493  25038  3124\n",
       "4  5   1349  16917  1338"
      ]
     },
     "execution_count": 14,
     "metadata": {},
     "output_type": "execute_result"
    }
   ],
   "source": [
    "Final_Data.sort_values(by=0,inplace=True)\n",
    "Final_Data.reset_index(inplace=True)\n",
    "del Final_Data['index']\n",
    "Final_Data.head()"
   ]
  },
  {
   "cell_type": "code",
   "execution_count": 15,
   "metadata": {
    "collapsed": true
   },
   "outputs": [],
   "source": [
    "Final_Data.to_csv('Final_Output.csv')"
   ]
  }
 ],
 "metadata": {
  "kernelspec": {
   "display_name": "Python 3",
   "language": "python",
   "name": "python3"
  },
  "language_info": {
   "codemirror_mode": {
    "name": "ipython",
    "version": 3
   },
   "file_extension": ".py",
   "mimetype": "text/x-python",
   "name": "python",
   "nbconvert_exporter": "python",
   "pygments_lexer": "ipython3",
   "version": "3.6.0"
  }
 },
 "nbformat": 4,
 "nbformat_minor": 2
}

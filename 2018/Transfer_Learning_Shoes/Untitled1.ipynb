{
 "cells": [
  {
   "cell_type": "code",
   "execution_count": 1,
   "metadata": {
    "collapsed": true
   },
   "outputs": [],
   "source": [
    "import pandas as pd\n",
    "import numpy as np\n",
    "from sklearn.metrics.pairwise import euclidean_distances\n",
    "from sklearn.neighbors import NearestNeighbors"
   ]
  },
  {
   "cell_type": "code",
   "execution_count": 2,
   "metadata": {},
   "outputs": [
    {
     "data": {
      "text/plain": [
       "(4096, 30000)"
      ]
     },
     "execution_count": 2,
     "metadata": {},
     "output_type": "execute_result"
    }
   ],
   "source": [
    "x = np.random.normal(0,1,[4096,30000])\n",
    "x.shape"
   ]
  },
  {
   "cell_type": "code",
   "execution_count": 3,
   "metadata": {},
   "outputs": [
    {
     "data": {
      "text/plain": [
       "(4096, 4096)"
      ]
     },
     "execution_count": 3,
     "metadata": {},
     "output_type": "execute_result"
    }
   ],
   "source": [
    "y = euclidean_distances(x, x)\n",
    "y.shape"
   ]
  },
  {
   "cell_type": "code",
   "execution_count": 4,
   "metadata": {},
   "outputs": [
    {
     "data": {
      "text/plain": [
       "array([[   0.        ,  245.61521346,  245.22909192, ...,  244.73856012,\n",
       "         244.94846637,  243.02933638],\n",
       "       [ 245.61521346,    0.        ,  243.71982766, ...,  244.02752618,\n",
       "         244.35624298,  243.48864172],\n",
       "       [ 245.22909192,  243.71982766,    0.        , ...,  244.11235981,\n",
       "         245.882992  ,  244.14396657],\n",
       "       ..., \n",
       "       [ 244.73856012,  244.02752618,  244.11235981, ...,    0.        ,\n",
       "         244.48707071,  242.2181134 ],\n",
       "       [ 244.94846637,  244.35624298,  245.882992  , ...,  244.48707071,\n",
       "           0.        ,  243.69535625],\n",
       "       [ 243.02933638,  243.48864172,  244.14396657, ...,  242.2181134 ,\n",
       "         243.69535625,    0.        ]])"
      ]
     },
     "execution_count": 4,
     "metadata": {},
     "output_type": "execute_result"
    }
   ],
   "source": [
    "y"
   ]
  },
  {
   "cell_type": "code",
   "execution_count": 24,
   "metadata": {},
   "outputs": [],
   "source": [
    "nbrs = NearestNeighbors(n_neighbors=4,metric='euclidean').fit(x)"
   ]
  },
  {
   "cell_type": "code",
   "execution_count": null,
   "metadata": {
    "collapsed": true
   },
   "outputs": [],
   "source": [
    "NearestNeighbors?"
   ]
  },
  {
   "cell_type": "code",
   "execution_count": 25,
   "metadata": {},
   "outputs": [],
   "source": [
    "distances, indices = nbrs.kneighbors(x)"
   ]
  },
  {
   "cell_type": "code",
   "execution_count": 27,
   "metadata": {},
   "outputs": [
    {
     "data": {
      "text/plain": [
       "array([[   0,  225],\n",
       "       [   1,   70],\n",
       "       [   2, 2169],\n",
       "       ..., \n",
       "       [4093,  236],\n",
       "       [4094, 3923],\n",
       "       [4095, 1585]])"
      ]
     },
     "execution_count": 27,
     "metadata": {},
     "output_type": "execute_result"
    }
   ],
   "source": [
    "indices"
   ]
  },
  {
   "cell_type": "code",
   "execution_count": 21,
   "metadata": {},
   "outputs": [],
   "source": [
    "X = np.array([[-1, -1], [-2, -1], [-3, -2], [1, 1], [2, 1], [3, 2]])\n",
    "nbrs = NearestNeighbors(n_neighbors=6,metric='euclidean').fit(X)"
   ]
  },
  {
   "cell_type": "code",
   "execution_count": 22,
   "metadata": {},
   "outputs": [],
   "source": [
    "distances, indices = nbrs.kneighbors(X)"
   ]
  },
  {
   "cell_type": "code",
   "execution_count": 23,
   "metadata": {},
   "outputs": [
    {
     "data": {
      "text/plain": [
       "array([[ 0.        ,  1.        ,  2.23606798,  2.82842712,  3.60555128,\n",
       "         5.        ],\n",
       "       [ 0.        ,  1.        ,  1.41421356,  3.60555128,  4.47213595,\n",
       "         5.83095189],\n",
       "       [ 0.        ,  1.41421356,  2.23606798,  5.        ,  5.83095189,\n",
       "         7.21110255],\n",
       "       [ 0.        ,  1.        ,  2.23606798,  2.82842712,  3.60555128,\n",
       "         5.        ],\n",
       "       [ 0.        ,  1.        ,  1.41421356,  3.60555128,  4.47213595,\n",
       "         5.83095189],\n",
       "       [ 0.        ,  1.41421356,  2.23606798,  5.        ,  5.83095189,\n",
       "         7.21110255]])"
      ]
     },
     "execution_count": 23,
     "metadata": {},
     "output_type": "execute_result"
    }
   ],
   "source": [
    "distances"
   ]
  },
  {
   "cell_type": "code",
   "execution_count": 17,
   "metadata": {},
   "outputs": [
    {
     "data": {
      "text/plain": [
       "array([[ 0.        ,  1.        ,  2.23606798,  2.82842712,  3.60555128,\n",
       "         5.        ],\n",
       "       [ 1.        ,  0.        ,  1.41421356,  3.60555128,  4.47213595,\n",
       "         5.83095189],\n",
       "       [ 2.23606798,  1.41421356,  0.        ,  5.        ,  5.83095189,\n",
       "         7.21110255],\n",
       "       [ 2.82842712,  3.60555128,  5.        ,  0.        ,  1.        ,\n",
       "         2.23606798],\n",
       "       [ 3.60555128,  4.47213595,  5.83095189,  1.        ,  0.        ,\n",
       "         1.41421356],\n",
       "       [ 5.        ,  5.83095189,  7.21110255,  2.23606798,  1.41421356,\n",
       "         0.        ]])"
      ]
     },
     "execution_count": 17,
     "metadata": {},
     "output_type": "execute_result"
    }
   ],
   "source": [
    "y = euclidean_distances(X, X)\n",
    "y"
   ]
  },
  {
   "cell_type": "code",
   "execution_count": null,
   "metadata": {
    "collapsed": true
   },
   "outputs": [],
   "source": []
  }
 ],
 "metadata": {
  "kernelspec": {
   "display_name": "Python 3",
   "language": "python",
   "name": "python3"
  },
  "language_info": {
   "codemirror_mode": {
    "name": "ipython",
    "version": 3
   },
   "file_extension": ".py",
   "mimetype": "text/x-python",
   "name": "python",
   "nbconvert_exporter": "python",
   "pygments_lexer": "ipython3",
   "version": "3.6.0"
  }
 },
 "nbformat": 4,
 "nbformat_minor": 2
}

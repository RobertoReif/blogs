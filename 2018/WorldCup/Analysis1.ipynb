{
 "cells": [
  {
   "cell_type": "code",
   "execution_count": 1,
   "metadata": {},
   "outputs": [],
   "source": [
    "import pandas as pd\n",
    "import numpy as np\n",
    "from collections import defaultdict\n",
    "import matplotlib.pyplot as plt\n",
    "np.random.seed(42)\n",
    "\n",
    "%matplotlib inline"
   ]
  },
  {
   "cell_type": "code",
   "execution_count": 2,
   "metadata": {},
   "outputs": [],
   "source": [
    "# read data\n",
    "data_train = pd.read_csv('WorldCupMatches.csv') \n",
    "# drop nan rows\n",
    "data_train.dropna(axis=0, how='any', inplace=True)\n",
    "# drop duplicate rows\n",
    "data_train.drop_duplicates(inplace=True)"
   ]
  },
  {
   "cell_type": "code",
   "execution_count": 3,
   "metadata": {},
   "outputs": [],
   "source": [
    "# only using the data from the Group Stage\n",
    "data_train = data_train[\n",
    "    data_train['Stage'].isin(\n",
    "        ['Group A','Group B','Group C','Group D','Group E','Group F','Group G','Group H'])]\n",
    "# only using data since 1986\n",
    "data_train = data_train[data_train['Year']>=1986]\n",
    "# reset the index\n",
    "data_train.reset_index(inplace=True);"
   ]
  },
  {
   "cell_type": "code",
   "execution_count": 4,
   "metadata": {},
   "outputs": [
    {
     "data": {
      "text/plain": [
       "2014.0    48\n",
       "2002.0    48\n",
       "1998.0    48\n",
       "2006.0    48\n",
       "2010.0    48\n",
       "1990.0    36\n",
       "1994.0    36\n",
       "1986.0    36\n",
       "Name: Year, dtype: int64"
      ]
     },
     "execution_count": 4,
     "metadata": {},
     "output_type": "execute_result"
    }
   ],
   "source": [
    "data_train['Year'].value_counts()"
   ]
  },
  {
   "cell_type": "code",
   "execution_count": 5,
   "metadata": {},
   "outputs": [
    {
     "data": {
      "text/html": [
       "<div>\n",
       "<style>\n",
       "    .dataframe thead tr:only-child th {\n",
       "        text-align: right;\n",
       "    }\n",
       "\n",
       "    .dataframe thead th {\n",
       "        text-align: left;\n",
       "    }\n",
       "\n",
       "    .dataframe tbody tr th {\n",
       "        vertical-align: top;\n",
       "    }\n",
       "</style>\n",
       "<table border=\"1\" class=\"dataframe\">\n",
       "  <thead>\n",
       "    <tr style=\"text-align: right;\">\n",
       "      <th></th>\n",
       "      <th>index</th>\n",
       "      <th>Year</th>\n",
       "      <th>Datetime</th>\n",
       "      <th>Stage</th>\n",
       "      <th>Stadium</th>\n",
       "      <th>City</th>\n",
       "      <th>Home Team Name</th>\n",
       "      <th>Home Team Goals</th>\n",
       "      <th>Away Team Goals</th>\n",
       "      <th>Away Team Name</th>\n",
       "      <th>...</th>\n",
       "      <th>Attendance</th>\n",
       "      <th>Half-time Home Goals</th>\n",
       "      <th>Half-time Away Goals</th>\n",
       "      <th>Referee</th>\n",
       "      <th>Assistant 1</th>\n",
       "      <th>Assistant 2</th>\n",
       "      <th>RoundID</th>\n",
       "      <th>MatchID</th>\n",
       "      <th>Home Team Initials</th>\n",
       "      <th>Away Team Initials</th>\n",
       "    </tr>\n",
       "  </thead>\n",
       "  <tbody>\n",
       "    <tr>\n",
       "      <th>0</th>\n",
       "      <td>360</td>\n",
       "      <td>1986.0</td>\n",
       "      <td>31 May 1986 - 12:00</td>\n",
       "      <td>Group A</td>\n",
       "      <td>Estadio Azteca</td>\n",
       "      <td>Mexico City</td>\n",
       "      <td>Bulgaria</td>\n",
       "      <td>1.0</td>\n",
       "      <td>1.0</td>\n",
       "      <td>Italy</td>\n",
       "      <td>...</td>\n",
       "      <td>96000.0</td>\n",
       "      <td>0.0</td>\n",
       "      <td>1.0</td>\n",
       "      <td>FREDRIKSSON Erik (SWE)</td>\n",
       "      <td>CODESAL MENDEZ Edgardo (MEX)</td>\n",
       "      <td>ROTH Volker (GER)</td>\n",
       "      <td>308.0</td>\n",
       "      <td>459.0</td>\n",
       "      <td>BUL</td>\n",
       "      <td>ITA</td>\n",
       "    </tr>\n",
       "    <tr>\n",
       "      <th>1</th>\n",
       "      <td>361</td>\n",
       "      <td>1986.0</td>\n",
       "      <td>01 Jun 1986 - 16:00</td>\n",
       "      <td>Group C</td>\n",
       "      <td>Nou Camp - Estadio Le�n</td>\n",
       "      <td>Leon</td>\n",
       "      <td>Canada</td>\n",
       "      <td>0.0</td>\n",
       "      <td>1.0</td>\n",
       "      <td>France</td>\n",
       "      <td>...</td>\n",
       "      <td>65500.0</td>\n",
       "      <td>0.0</td>\n",
       "      <td>0.0</td>\n",
       "      <td>SILVA ARCE Hernan (CHI)</td>\n",
       "      <td>MENDEZ MOLINA Romulo (GUA)</td>\n",
       "      <td>ULLOA MORERA Berny (CRC)</td>\n",
       "      <td>308.0</td>\n",
       "      <td>468.0</td>\n",
       "      <td>CAN</td>\n",
       "      <td>FRA</td>\n",
       "    </tr>\n",
       "    <tr>\n",
       "      <th>2</th>\n",
       "      <td>362</td>\n",
       "      <td>1986.0</td>\n",
       "      <td>01 Jun 1986 - 12:00</td>\n",
       "      <td>Group D</td>\n",
       "      <td>Jalisco</td>\n",
       "      <td>Guadalajara</td>\n",
       "      <td>Spain</td>\n",
       "      <td>0.0</td>\n",
       "      <td>1.0</td>\n",
       "      <td>Brazil</td>\n",
       "      <td>...</td>\n",
       "      <td>35748.0</td>\n",
       "      <td>0.0</td>\n",
       "      <td>0.0</td>\n",
       "      <td>BAMBRIDGE Christopher (AUS)</td>\n",
       "      <td>SOCHA David (USA)</td>\n",
       "      <td>KEIZER Jan (NED)</td>\n",
       "      <td>308.0</td>\n",
       "      <td>439.0</td>\n",
       "      <td>ESP</td>\n",
       "      <td>BRA</td>\n",
       "    </tr>\n",
       "    <tr>\n",
       "      <th>3</th>\n",
       "      <td>363</td>\n",
       "      <td>1986.0</td>\n",
       "      <td>02 Jun 1986 - 12:00</td>\n",
       "      <td>Group C</td>\n",
       "      <td>Estadio Irapuato</td>\n",
       "      <td>Irapuato</td>\n",
       "      <td>Soviet Union</td>\n",
       "      <td>6.0</td>\n",
       "      <td>0.0</td>\n",
       "      <td>Hungary</td>\n",
       "      <td>...</td>\n",
       "      <td>16500.0</td>\n",
       "      <td>3.0</td>\n",
       "      <td>0.0</td>\n",
       "      <td>AGNOLIN Luigi (ITA)</td>\n",
       "      <td>COURTNEY George (ENG)</td>\n",
       "      <td>BRUMMEIER Horst (AUT)</td>\n",
       "      <td>308.0</td>\n",
       "      <td>610.0</td>\n",
       "      <td>URS</td>\n",
       "      <td>HUN</td>\n",
       "    </tr>\n",
       "    <tr>\n",
       "      <th>4</th>\n",
       "      <td>364</td>\n",
       "      <td>1986.0</td>\n",
       "      <td>02 Jun 1986 - 12:00</td>\n",
       "      <td>Group A</td>\n",
       "      <td>Estadio Ol�mpico Universitario</td>\n",
       "      <td>Mexico City</td>\n",
       "      <td>Argentina</td>\n",
       "      <td>3.0</td>\n",
       "      <td>1.0</td>\n",
       "      <td>Korea Republic</td>\n",
       "      <td>...</td>\n",
       "      <td>60000.0</td>\n",
       "      <td>2.0</td>\n",
       "      <td>0.0</td>\n",
       "      <td>SANCHEZ ARMINIO Victoriano (ESP)</td>\n",
       "      <td>GONZALEZ ROA Gabriel (PAR)</td>\n",
       "      <td>DIAZ PALACIO Jesus (COL)</td>\n",
       "      <td>308.0</td>\n",
       "      <td>395.0</td>\n",
       "      <td>ARG</td>\n",
       "      <td>KOR</td>\n",
       "    </tr>\n",
       "  </tbody>\n",
       "</table>\n",
       "<p>5 rows × 21 columns</p>\n",
       "</div>"
      ],
      "text/plain": [
       "   index    Year              Datetime    Stage  \\\n",
       "0    360  1986.0  31 May 1986 - 12:00   Group A   \n",
       "1    361  1986.0  01 Jun 1986 - 16:00   Group C   \n",
       "2    362  1986.0  01 Jun 1986 - 12:00   Group D   \n",
       "3    363  1986.0  02 Jun 1986 - 12:00   Group C   \n",
       "4    364  1986.0  02 Jun 1986 - 12:00   Group A   \n",
       "\n",
       "                          Stadium          City Home Team Name  \\\n",
       "0                  Estadio Azteca  Mexico City        Bulgaria   \n",
       "1         Nou Camp - Estadio Le�n         Leon          Canada   \n",
       "2                         Jalisco  Guadalajara           Spain   \n",
       "3                Estadio Irapuato     Irapuato    Soviet Union   \n",
       "4  Estadio Ol�mpico Universitario  Mexico City       Argentina   \n",
       "\n",
       "   Home Team Goals  Away Team Goals  Away Team Name        ...          \\\n",
       "0              1.0              1.0           Italy        ...           \n",
       "1              0.0              1.0          France        ...           \n",
       "2              0.0              1.0          Brazil        ...           \n",
       "3              6.0              0.0         Hungary        ...           \n",
       "4              3.0              1.0  Korea Republic        ...           \n",
       "\n",
       "  Attendance  Half-time Home Goals  Half-time Away Goals  \\\n",
       "0    96000.0                   0.0                   1.0   \n",
       "1    65500.0                   0.0                   0.0   \n",
       "2    35748.0                   0.0                   0.0   \n",
       "3    16500.0                   3.0                   0.0   \n",
       "4    60000.0                   2.0                   0.0   \n",
       "\n",
       "                            Referee                   Assistant 1  \\\n",
       "0            FREDRIKSSON Erik (SWE)  CODESAL MENDEZ Edgardo (MEX)   \n",
       "1           SILVA ARCE Hernan (CHI)    MENDEZ MOLINA Romulo (GUA)   \n",
       "2       BAMBRIDGE Christopher (AUS)             SOCHA David (USA)   \n",
       "3               AGNOLIN Luigi (ITA)         COURTNEY George (ENG)   \n",
       "4  SANCHEZ ARMINIO Victoriano (ESP)    GONZALEZ ROA Gabriel (PAR)   \n",
       "\n",
       "                Assistant 2 RoundID  MatchID  Home Team Initials  \\\n",
       "0         ROTH Volker (GER)   308.0    459.0                 BUL   \n",
       "1  ULLOA MORERA Berny (CRC)   308.0    468.0                 CAN   \n",
       "2          KEIZER Jan (NED)   308.0    439.0                 ESP   \n",
       "3     BRUMMEIER Horst (AUT)   308.0    610.0                 URS   \n",
       "4  DIAZ PALACIO Jesus (COL)   308.0    395.0                 ARG   \n",
       "\n",
       "  Away Team Initials  \n",
       "0                ITA  \n",
       "1                FRA  \n",
       "2                BRA  \n",
       "3                HUN  \n",
       "4                KOR  \n",
       "\n",
       "[5 rows x 21 columns]"
      ]
     },
     "execution_count": 5,
     "metadata": {},
     "output_type": "execute_result"
    }
   ],
   "source": [
    "data_train.head()"
   ]
  },
  {
   "cell_type": "code",
   "execution_count": 6,
   "metadata": {},
   "outputs": [],
   "source": [
    "# get a subset of the columns\n",
    "data_train = data_train[['Year','Home Team Goals',\n",
    "                         'Away Team Goals','Home Team Initials','Away Team Initials']]"
   ]
  },
  {
   "cell_type": "code",
   "execution_count": 7,
   "metadata": {},
   "outputs": [],
   "source": [
    "# Creates a column with the number of winning and losing goals\n",
    "data_train['Win Goals'] = data_train[['Home Team Goals','Away Team Goals']].max(axis=1)\n",
    "data_train['Lose Goals'] = data_train[['Home Team Goals','Away Team Goals']].min(axis=1)"
   ]
  },
  {
   "cell_type": "markdown",
   "metadata": {},
   "source": [
    "Creates a columns with the winning and losing team"
   ]
  },
  {
   "cell_type": "code",
   "execution_count": 8,
   "metadata": {},
   "outputs": [],
   "source": [
    "def Win_Team_Func(data_row):\n",
    "    if data_row['Home Team Goals'] >= data_row['Away Team Goals']:\n",
    "        return data_row['Home Team Initials']\n",
    "    else:\n",
    "        return data_row['Away Team Initials']\n",
    "data_train['Win Team'] = data_train.apply(Win_Team_Func,axis=1)"
   ]
  },
  {
   "cell_type": "code",
   "execution_count": 9,
   "metadata": {},
   "outputs": [],
   "source": [
    "def Lose_Team_Func(data_row):\n",
    "    if data_row['Home Team Goals'] >= data_row['Away Team Goals']:\n",
    "        return data_row['Away Team Initials']\n",
    "    else:\n",
    "        return data_row['Home Team Initials']\n",
    "data_train['Lose Team'] = data_train.apply(Lose_Team_Func,axis=1)"
   ]
  },
  {
   "cell_type": "code",
   "execution_count": 10,
   "metadata": {},
   "outputs": [],
   "source": [
    "# creates a column with ties\n",
    "data_train['Tie']=data_train['Win Goals']==data_train['Lose Goals']"
   ]
  },
  {
   "cell_type": "code",
   "execution_count": 11,
   "metadata": {},
   "outputs": [
    {
     "data": {
      "text/html": [
       "<div>\n",
       "<style>\n",
       "    .dataframe thead tr:only-child th {\n",
       "        text-align: right;\n",
       "    }\n",
       "\n",
       "    .dataframe thead th {\n",
       "        text-align: left;\n",
       "    }\n",
       "\n",
       "    .dataframe tbody tr th {\n",
       "        vertical-align: top;\n",
       "    }\n",
       "</style>\n",
       "<table border=\"1\" class=\"dataframe\">\n",
       "  <thead>\n",
       "    <tr style=\"text-align: right;\">\n",
       "      <th></th>\n",
       "      <th>Year</th>\n",
       "      <th>Win Goals</th>\n",
       "      <th>Lose Goals</th>\n",
       "      <th>Win Team</th>\n",
       "      <th>Lose Team</th>\n",
       "      <th>Tie</th>\n",
       "    </tr>\n",
       "  </thead>\n",
       "  <tbody>\n",
       "    <tr>\n",
       "      <th>0</th>\n",
       "      <td>1986.0</td>\n",
       "      <td>1.0</td>\n",
       "      <td>1.0</td>\n",
       "      <td>BUL</td>\n",
       "      <td>ITA</td>\n",
       "      <td>True</td>\n",
       "    </tr>\n",
       "    <tr>\n",
       "      <th>1</th>\n",
       "      <td>1986.0</td>\n",
       "      <td>1.0</td>\n",
       "      <td>0.0</td>\n",
       "      <td>FRA</td>\n",
       "      <td>CAN</td>\n",
       "      <td>False</td>\n",
       "    </tr>\n",
       "    <tr>\n",
       "      <th>2</th>\n",
       "      <td>1986.0</td>\n",
       "      <td>1.0</td>\n",
       "      <td>0.0</td>\n",
       "      <td>BRA</td>\n",
       "      <td>ESP</td>\n",
       "      <td>False</td>\n",
       "    </tr>\n",
       "    <tr>\n",
       "      <th>3</th>\n",
       "      <td>1986.0</td>\n",
       "      <td>6.0</td>\n",
       "      <td>0.0</td>\n",
       "      <td>URS</td>\n",
       "      <td>HUN</td>\n",
       "      <td>False</td>\n",
       "    </tr>\n",
       "    <tr>\n",
       "      <th>4</th>\n",
       "      <td>1986.0</td>\n",
       "      <td>3.0</td>\n",
       "      <td>1.0</td>\n",
       "      <td>ARG</td>\n",
       "      <td>KOR</td>\n",
       "      <td>False</td>\n",
       "    </tr>\n",
       "  </tbody>\n",
       "</table>\n",
       "</div>"
      ],
      "text/plain": [
       "     Year  Win Goals  Lose Goals Win Team Lose Team    Tie\n",
       "0  1986.0        1.0         1.0      BUL       ITA   True\n",
       "1  1986.0        1.0         0.0      FRA       CAN  False\n",
       "2  1986.0        1.0         0.0      BRA       ESP  False\n",
       "3  1986.0        6.0         0.0      URS       HUN  False\n",
       "4  1986.0        3.0         1.0      ARG       KOR  False"
      ]
     },
     "execution_count": 11,
     "metadata": {},
     "output_type": "execute_result"
    }
   ],
   "source": [
    "# drops columns not needed\n",
    "clmns = ['Home Team Goals','Away Team Goals','Home Team Initials','Away Team Initials']\n",
    "data_train.drop(labels=clmns,axis=1, inplace=True)\n",
    "data_train.head()"
   ]
  },
  {
   "cell_type": "code",
   "execution_count": 12,
   "metadata": {},
   "outputs": [
    {
     "data": {
      "text/html": [
       "<div>\n",
       "<style>\n",
       "    .dataframe thead tr:only-child th {\n",
       "        text-align: right;\n",
       "    }\n",
       "\n",
       "    .dataframe thead th {\n",
       "        text-align: left;\n",
       "    }\n",
       "\n",
       "    .dataframe tbody tr th {\n",
       "        vertical-align: top;\n",
       "    }\n",
       "</style>\n",
       "<table border=\"1\" class=\"dataframe\">\n",
       "  <thead>\n",
       "    <tr style=\"text-align: right;\">\n",
       "      <th></th>\n",
       "      <th>Tie</th>\n",
       "    </tr>\n",
       "    <tr>\n",
       "      <th>Year</th>\n",
       "      <th></th>\n",
       "    </tr>\n",
       "  </thead>\n",
       "  <tbody>\n",
       "    <tr>\n",
       "      <th>1986.0</th>\n",
       "      <td>0.305556</td>\n",
       "    </tr>\n",
       "    <tr>\n",
       "      <th>1990.0</th>\n",
       "      <td>0.222222</td>\n",
       "    </tr>\n",
       "    <tr>\n",
       "      <th>1994.0</th>\n",
       "      <td>0.222222</td>\n",
       "    </tr>\n",
       "    <tr>\n",
       "      <th>1998.0</th>\n",
       "      <td>0.333333</td>\n",
       "    </tr>\n",
       "    <tr>\n",
       "      <th>2002.0</th>\n",
       "      <td>0.291667</td>\n",
       "    </tr>\n",
       "    <tr>\n",
       "      <th>2006.0</th>\n",
       "      <td>0.229167</td>\n",
       "    </tr>\n",
       "    <tr>\n",
       "      <th>2010.0</th>\n",
       "      <td>0.291667</td>\n",
       "    </tr>\n",
       "    <tr>\n",
       "      <th>2014.0</th>\n",
       "      <td>0.187500</td>\n",
       "    </tr>\n",
       "  </tbody>\n",
       "</table>\n",
       "</div>"
      ],
      "text/plain": [
       "             Tie\n",
       "Year            \n",
       "1986.0  0.305556\n",
       "1990.0  0.222222\n",
       "1994.0  0.222222\n",
       "1998.0  0.333333\n",
       "2002.0  0.291667\n",
       "2006.0  0.229167\n",
       "2010.0  0.291667\n",
       "2014.0  0.187500"
      ]
     },
     "execution_count": 12,
     "metadata": {},
     "output_type": "execute_result"
    }
   ],
   "source": [
    "Perc_Ties_Year = pd.DataFrame(data_train.groupby(['Year'])['Tie'].sum()/\n",
    "             data_train.groupby(['Year'])['Tie'].count())\n",
    "Perc_Ties_Year"
   ]
  },
  {
   "cell_type": "code",
   "execution_count": 13,
   "metadata": {},
   "outputs": [
    {
     "data": {
      "image/png": "[encoded data removed]",
      "text/plain": [
       "<matplotlib.figure.Figure at 0x11986e400>"
      ]
     },
     "metadata": {},
     "output_type": "display_data"
    }
   ],
   "source": [
    "plt.rcParams.update({'font.size': 20})\n",
    "plt.rcParams['legend.fontsize'] = 15\n",
    "\n",
    "plt.figure(figsize=[10,6])\n",
    "plt.bar(Perc_Ties_Year.index,Perc_Ties_Year['Tie']*100,width=3,color='b',alpha = 0.3)\n",
    "plt.plot([1982, 2018],[Perc_Ties_Year['Tie'].mean()*100]*2,'--',color=[0.4,.4,.4])\n",
    "plt.axis([1982, 2015, 0, 35])\n",
    "plt.text(2012, 28, str(round(Perc_Ties_Year['Tie'].mean()*100,2))+'%',fontsize=15,color=[0.4,.4,.4])\n",
    "plt.box('off')\n",
    "plt.xlabel('Year')\n",
    "plt.ylabel('Percentage of Tie')\n",
    "plt.xticks(Perc_Ties_Year.index);\n",
    "plt.savefig('Tie.jpg');"
   ]
  },
  {
   "cell_type": "code",
   "execution_count": 14,
   "metadata": {},
   "outputs": [],
   "source": [
    "data_test = pd.read_excel('Scores.xlsx','2018') # testing data from 2018\n",
    "Total_Games = 48 # number of games in total"
   ]
  },
  {
   "cell_type": "markdown",
   "metadata": {},
   "source": [
    "Now let's create a True Table with the outcome for all the games in the testing set"
   ]
  },
  {
   "cell_type": "code",
   "execution_count": 15,
   "metadata": {
    "collapsed": true
   },
   "outputs": [],
   "source": [
    "def Outcome(data):\n",
    "    if data.Wscore>data.Lscore:\n",
    "        return(data.Winner)\n",
    "    else:\n",
    "        return 'T'"
   ]
  },
  {
   "cell_type": "code",
   "execution_count": 16,
   "metadata": {},
   "outputs": [
    {
     "data": {
      "text/plain": [
       "['Russia', 'Uruguay ', 'Iran', 'T', 'France']"
      ]
     },
     "execution_count": 16,
     "metadata": {},
     "output_type": "execute_result"
    }
   ],
   "source": [
    "True_Table_Test = ([Outcome(data_test.iloc[i]) for i in range(Total_Games)])\n",
    "\n",
    "True_Table_Test[0:5]"
   ]
  },
  {
   "cell_type": "markdown",
   "metadata": {},
   "source": [
    "### 3. Baseline guess\n",
    "For each game in the test set, let's randomly guess the outcome of the game. There are 3 options: Team A winning, Team B winning or Tie. We will select each outcome with 1/3 of probability."
   ]
  },
  {
   "cell_type": "code",
   "execution_count": 17,
   "metadata": {
    "collapsed": true
   },
   "outputs": [],
   "source": [
    "def Random_Guess(data, p):\n",
    "    '''\n",
    "    Receives a row of the data and guesses the outcome between \n",
    "    Team A, Team B and Tie based on a probability distribution\n",
    "    '''\n",
    "    Game = [data.Winner, data.Loser, 'T']\n",
    "    return(np.random.choice(Game,p=p))"
   ]
  },
  {
   "cell_type": "code",
   "execution_count": 18,
   "metadata": {
    "collapsed": true
   },
   "outputs": [],
   "source": [
    "num_simulations = 1000 # simulates 1000 random guesses\n",
    "p = [1/3,1/3,1/3]# [Prob Team A, Prob Team B, Prob Tie] the 3 numbers add to 1\n",
    "Random_Table = [[Random_Guess(data_test.iloc[i],p) for i in range(Total_Games)] \n",
    "                for i_guess in range(num_simulations)] "
   ]
  },
  {
   "cell_type": "code",
   "execution_count": 19,
   "metadata": {
    "collapsed": true
   },
   "outputs": [],
   "source": [
    "def Correct_Predictions(Random_Table, True_Table_Test):\n",
    "    '''\n",
    "    Retuns the counts of the correct predictions\n",
    "    '''\n",
    "    \n",
    "    # row is each game (48), column is the guesses (num of simulations), value\n",
    "    # is the guess (Team A, Team B or Tie) \n",
    "    Guess_Table = pd.DataFrame(Random_Table).T \n",
    "#     print(Guess_Table.head())\n",
    "\n",
    "    # row is each game (48), column is the guesses (num of simulations), value\n",
    "    # is True if guessed correctly; otherwise, False \n",
    "    TF_Table = Guess_Table == True_Table_Test # row is \n",
    "#     print(TF_Table.head())\n",
    "    \n",
    "    # return for each simulation the number of correct guesses\n",
    "    return pd.DataFrame(TF_Table.sum())"
   ]
  },
  {
   "cell_type": "code",
   "execution_count": 20,
   "metadata": {},
   "outputs": [
    {
     "data": {
      "text/html": [
       "<div>\n",
       "<style>\n",
       "    .dataframe thead tr:only-child th {\n",
       "        text-align: right;\n",
       "    }\n",
       "\n",
       "    .dataframe thead th {\n",
       "        text-align: left;\n",
       "    }\n",
       "\n",
       "    .dataframe tbody tr th {\n",
       "        vertical-align: top;\n",
       "    }\n",
       "</style>\n",
       "<table border=\"1\" class=\"dataframe\">\n",
       "  <thead>\n",
       "    <tr style=\"text-align: right;\">\n",
       "      <th></th>\n",
       "      <th>0</th>\n",
       "    </tr>\n",
       "  </thead>\n",
       "  <tbody>\n",
       "    <tr>\n",
       "      <th>0</th>\n",
       "      <td>19</td>\n",
       "    </tr>\n",
       "    <tr>\n",
       "      <th>1</th>\n",
       "      <td>14</td>\n",
       "    </tr>\n",
       "    <tr>\n",
       "      <th>2</th>\n",
       "      <td>19</td>\n",
       "    </tr>\n",
       "    <tr>\n",
       "      <th>3</th>\n",
       "      <td>19</td>\n",
       "    </tr>\n",
       "    <tr>\n",
       "      <th>4</th>\n",
       "      <td>15</td>\n",
       "    </tr>\n",
       "  </tbody>\n",
       "</table>\n",
       "</div>"
      ],
      "text/plain": [
       "    0\n",
       "0  19\n",
       "1  14\n",
       "2  19\n",
       "3  19\n",
       "4  15"
      ]
     },
     "execution_count": 20,
     "metadata": {},
     "output_type": "execute_result"
    }
   ],
   "source": [
    "Num1_Prediction = Correct_Predictions(Random_Table, True_Table_Test)\n",
    "Num1_Prediction.head() # each row is a simulation with the number of correct predictions"
   ]
  },
  {
   "cell_type": "code",
   "execution_count": 21,
   "metadata": {},
   "outputs": [
    {
     "data": {
      "image/png": "[encoded data removed]",
      "text/plain": [
       "<matplotlib.figure.Figure at 0x11d48e240>"
      ]
     },
     "metadata": {},
     "output_type": "display_data"
    }
   ],
   "source": [
    "axis = [0,48,0,0.15]\n",
    "\n",
    "plt.figure(figsize=[10,6])\n",
    "plt.axis(axis)\n",
    "plt.xlabel('Number of Correct Predictions',ma='right')\n",
    "plt.ylabel('Probability',ma='right')\n",
    "plt.box('off')\n",
    "\n",
    "plt.hist(Num1_Prediction,bins = range(Total_Games+1),alpha = 0.3,color = 'blue',normed=True);\n",
    "plt.legend(['Baseline Guess: ' + str(round(Num1_Prediction.mean().values[0]/Total_Games*100,2))+'%'],frameon=False)\n",
    "plt.plot([24,24],[0,0.15],'--',color=[.4,.4,.4])\n",
    "plt.xticks([0,12,24,36,48])\n",
    "plt.savefig('1.jpg');"
   ]
  },
  {
   "cell_type": "markdown",
   "metadata": {},
   "source": [
    "### 4. Bias guess\n",
    "Randomly guessing an outcome makes sense if you know nothing about the data; however, what if there is a bias? For example the number of tie games occurs more or less frequently than the number of games where there is a winner? Let's explore the data.\n",
    "\n",
    "We create a pandas dataframe that has:\n",
    "\n",
    "The country name as row\n",
    "The outcome of the First, Second and Third game as columns\n",
    "We track whether they won (W), lost (L) or tied (T) a game"
   ]
  },
  {
   "cell_type": "code",
   "execution_count": 22,
   "metadata": {},
   "outputs": [],
   "source": [
    "# Runs our new simulation\n",
    "p = [(1-Perc_Ties_Year['Tie'].mean())/2,(1-Perc_Ties_Year['Tie'].mean())/2,Perc_Ties_Year['Tie'].mean()]# [Prob Team A, Prob Team B, Prob Tie] the 3 numbers add to 1\n",
    "Random_Table = [[Random_Guess(data_test.iloc[i],p) for i in range(Total_Games)] for i_guess in range(num_simulations)] "
   ]
  },
  {
   "cell_type": "code",
   "execution_count": 23,
   "metadata": {},
   "outputs": [
    {
     "data": {
      "text/html": [
       "<div>\n",
       "<style>\n",
       "    .dataframe thead tr:only-child th {\n",
       "        text-align: right;\n",
       "    }\n",
       "\n",
       "    .dataframe thead th {\n",
       "        text-align: left;\n",
       "    }\n",
       "\n",
       "    .dataframe tbody tr th {\n",
       "        vertical-align: top;\n",
       "    }\n",
       "</style>\n",
       "<table border=\"1\" class=\"dataframe\">\n",
       "  <thead>\n",
       "    <tr style=\"text-align: right;\">\n",
       "      <th></th>\n",
       "      <th>0</th>\n",
       "    </tr>\n",
       "  </thead>\n",
       "  <tbody>\n",
       "    <tr>\n",
       "      <th>0</th>\n",
       "      <td>19</td>\n",
       "    </tr>\n",
       "    <tr>\n",
       "      <th>1</th>\n",
       "      <td>17</td>\n",
       "    </tr>\n",
       "    <tr>\n",
       "      <th>2</th>\n",
       "      <td>20</td>\n",
       "    </tr>\n",
       "    <tr>\n",
       "      <th>3</th>\n",
       "      <td>21</td>\n",
       "    </tr>\n",
       "    <tr>\n",
       "      <th>4</th>\n",
       "      <td>19</td>\n",
       "    </tr>\n",
       "  </tbody>\n",
       "</table>\n",
       "</div>"
      ],
      "text/plain": [
       "    0\n",
       "0  19\n",
       "1  17\n",
       "2  20\n",
       "3  21\n",
       "4  19"
      ]
     },
     "execution_count": 23,
     "metadata": {},
     "output_type": "execute_result"
    }
   ],
   "source": [
    "Num2_Prediction = Correct_Predictions(Random_Table, True_Table_Test)\n",
    "Num2_Prediction.head()"
   ]
  },
  {
   "cell_type": "code",
   "execution_count": 24,
   "metadata": {},
   "outputs": [
    {
     "data": {
      "image/png": "[encoded data removed]",
      "text/plain": [
       "<matplotlib.figure.Figure at 0x11d9eee80>"
      ]
     },
     "metadata": {},
     "output_type": "display_data"
    }
   ],
   "source": [
    "plt.figure(figsize=[10,6])\n",
    "plt.axis(axis)\n",
    "plt.xlabel('Number of Correct Predictions',ma='right')\n",
    "plt.ylabel('Probability',ma='right')\n",
    "plt.box('off')\n",
    "\n",
    "plt.hist(Num1_Prediction,bins = range(Total_Games+1),alpha = 0.3,color = 'b',normed=True);\n",
    "plt.hist(Num2_Prediction,bins = range(Total_Games+1),alpha = 0.3,color = 'r',normed=True);\n",
    "plt.legend(['Baseline Guess: ' + str(round(Num1_Prediction.mean().values[0]/Total_Games*100,2))+'%',\n",
    "    'Bias Guess: ' + str(round(Num2_Prediction.mean().values[0]/Total_Games*100,2))+'%'],frameon=False)\n",
    "plt.plot([24,24],[0,0.15],'--',color=[.4,.4,.4])\n",
    "plt.xticks([0,12,24,36,48])\n",
    "plt.savefig('2.jpg');"
   ]
  },
  {
   "cell_type": "markdown",
   "metadata": {},
   "source": [
    "### 5. NoTie Guess\n",
    "We know that for a given game, it is more likely that there will be a Winner as opposed to getting a Tie. What if we now decide to ignore the Tie and always predict a Winner. How will that modify our results?"
   ]
  },
  {
   "cell_type": "code",
   "execution_count": 25,
   "metadata": {
    "collapsed": true
   },
   "outputs": [],
   "source": [
    "# Runs our new simulation\n",
    "p = [0.5,0.5,0] # [Prob Team A, Prob Team B, Prob Tie] the 3 numbers add to 1\n",
    "Random_Table = [[Random_Guess(data_test.iloc[i],p) for i in range(Total_Games)] for i_guess in range(num_simulations)] "
   ]
  },
  {
   "cell_type": "code",
   "execution_count": 26,
   "metadata": {},
   "outputs": [
    {
     "data": {
      "text/html": [
       "<div>\n",
       "<style>\n",
       "    .dataframe thead tr:only-child th {\n",
       "        text-align: right;\n",
       "    }\n",
       "\n",
       "    .dataframe thead th {\n",
       "        text-align: left;\n",
       "    }\n",
       "\n",
       "    .dataframe tbody tr th {\n",
       "        vertical-align: top;\n",
       "    }\n",
       "</style>\n",
       "<table border=\"1\" class=\"dataframe\">\n",
       "  <thead>\n",
       "    <tr style=\"text-align: right;\">\n",
       "      <th></th>\n",
       "      <th>0</th>\n",
       "    </tr>\n",
       "  </thead>\n",
       "  <tbody>\n",
       "    <tr>\n",
       "      <th>0</th>\n",
       "      <td>20</td>\n",
       "    </tr>\n",
       "    <tr>\n",
       "      <th>1</th>\n",
       "      <td>26</td>\n",
       "    </tr>\n",
       "    <tr>\n",
       "      <th>2</th>\n",
       "      <td>20</td>\n",
       "    </tr>\n",
       "    <tr>\n",
       "      <th>3</th>\n",
       "      <td>14</td>\n",
       "    </tr>\n",
       "    <tr>\n",
       "      <th>4</th>\n",
       "      <td>19</td>\n",
       "    </tr>\n",
       "  </tbody>\n",
       "</table>\n",
       "</div>"
      ],
      "text/plain": [
       "    0\n",
       "0  20\n",
       "1  26\n",
       "2  20\n",
       "3  14\n",
       "4  19"
      ]
     },
     "execution_count": 26,
     "metadata": {},
     "output_type": "execute_result"
    }
   ],
   "source": [
    "Num3_Prediction = Correct_Predictions(Random_Table, True_Table_Test)\n",
    "Num3_Prediction.head()"
   ]
  },
  {
   "cell_type": "code",
   "execution_count": 27,
   "metadata": {},
   "outputs": [
    {
     "data": {
      "image/png": "[encoded data removed]",
      "text/plain": [
       "<matplotlib.figure.Figure at 0x11d8cdda0>"
      ]
     },
     "metadata": {},
     "output_type": "display_data"
    }
   ],
   "source": [
    "plt.figure(figsize=[10,6])\n",
    "plt.axis(axis)\n",
    "plt.xlabel('Number of Correct Predictions',ma='right')\n",
    "plt.ylabel('Probability',ma='right')\n",
    "plt.box('off')\n",
    "\n",
    "plt.hist(Num1_Prediction,bins = range(Total_Games+1),alpha = 0.3,color = 'b', normed = True);\n",
    "plt.hist(Num3_Prediction,bins = range(Total_Games+1),alpha = 0.3,color ='g',normed = True);\n",
    "plt.legend(['Baseline Guess: ' + str(round(Num1_Prediction.mean().values[0]/Total_Games*100,2))+'%',\n",
    "    'No Tie Guess: ' + str(round(Num3_Prediction.mean().values[0]/Total_Games*100,2))+'%'],frameon=False)\n",
    "plt.plot([24,24],[0,0.15],'--',color=[.4,.4,.4])\n",
    "plt.xticks([0,12,24,36,48])\n",
    "plt.savefig('3.jpg');"
   ]
  },
  {
   "cell_type": "code",
   "execution_count": null,
   "metadata": {
    "collapsed": true
   },
   "outputs": [],
   "source": []
  },
  {
   "cell_type": "code",
   "execution_count": null,
   "metadata": {
    "collapsed": true
   },
   "outputs": [],
   "source": []
  },
  {
   "cell_type": "code",
   "execution_count": 28,
   "metadata": {},
   "outputs": [
    {
     "data": {
      "text/html": [
       "<div>\n",
       "<style>\n",
       "    .dataframe thead tr:only-child th {\n",
       "        text-align: right;\n",
       "    }\n",
       "\n",
       "    .dataframe thead th {\n",
       "        text-align: left;\n",
       "    }\n",
       "\n",
       "    .dataframe tbody tr th {\n",
       "        vertical-align: top;\n",
       "    }\n",
       "</style>\n",
       "<table border=\"1\" class=\"dataframe\">\n",
       "  <thead>\n",
       "    <tr style=\"text-align: right;\">\n",
       "      <th></th>\n",
       "      <th>Year</th>\n",
       "      <th>Win Goals</th>\n",
       "      <th>Lose Goals</th>\n",
       "      <th>Win Team</th>\n",
       "      <th>Lose Team</th>\n",
       "      <th>Tie</th>\n",
       "    </tr>\n",
       "  </thead>\n",
       "  <tbody>\n",
       "    <tr>\n",
       "      <th>0</th>\n",
       "      <td>1986.0</td>\n",
       "      <td>1.0</td>\n",
       "      <td>1.0</td>\n",
       "      <td>BUL</td>\n",
       "      <td>ITA</td>\n",
       "      <td>True</td>\n",
       "    </tr>\n",
       "    <tr>\n",
       "      <th>1</th>\n",
       "      <td>1986.0</td>\n",
       "      <td>1.0</td>\n",
       "      <td>0.0</td>\n",
       "      <td>FRA</td>\n",
       "      <td>CAN</td>\n",
       "      <td>False</td>\n",
       "    </tr>\n",
       "    <tr>\n",
       "      <th>2</th>\n",
       "      <td>1986.0</td>\n",
       "      <td>1.0</td>\n",
       "      <td>0.0</td>\n",
       "      <td>BRA</td>\n",
       "      <td>ESP</td>\n",
       "      <td>False</td>\n",
       "    </tr>\n",
       "    <tr>\n",
       "      <th>3</th>\n",
       "      <td>1986.0</td>\n",
       "      <td>6.0</td>\n",
       "      <td>0.0</td>\n",
       "      <td>URS</td>\n",
       "      <td>HUN</td>\n",
       "      <td>False</td>\n",
       "    </tr>\n",
       "    <tr>\n",
       "      <th>4</th>\n",
       "      <td>1986.0</td>\n",
       "      <td>3.0</td>\n",
       "      <td>1.0</td>\n",
       "      <td>ARG</td>\n",
       "      <td>KOR</td>\n",
       "      <td>False</td>\n",
       "    </tr>\n",
       "  </tbody>\n",
       "</table>\n",
       "</div>"
      ],
      "text/plain": [
       "     Year  Win Goals  Lose Goals Win Team Lose Team    Tie\n",
       "0  1986.0        1.0         1.0      BUL       ITA   True\n",
       "1  1986.0        1.0         0.0      FRA       CAN  False\n",
       "2  1986.0        1.0         0.0      BRA       ESP  False\n",
       "3  1986.0        6.0         0.0      URS       HUN  False\n",
       "4  1986.0        3.0         1.0      ARG       KOR  False"
      ]
     },
     "execution_count": 28,
     "metadata": {},
     "output_type": "execute_result"
    }
   ],
   "source": [
    "data_train.head()"
   ]
  },
  {
   "cell_type": "code",
   "execution_count": 29,
   "metadata": {},
   "outputs": [],
   "source": [
    "score = data_train[['Year','Win Goals','Lose Goals']]"
   ]
  },
  {
   "cell_type": "code",
   "execution_count": 30,
   "metadata": {},
   "outputs": [],
   "source": [
    "score = score.applymap(int)\n",
    "score = score.applymap(str)\n",
    "score['Join Goal'] = score['Win Goals']+score['Lose Goals']"
   ]
  },
  {
   "cell_type": "code",
   "execution_count": 31,
   "metadata": {},
   "outputs": [
    {
     "data": {
      "text/html": [
       "<div>\n",
       "<style>\n",
       "    .dataframe thead tr:only-child th {\n",
       "        text-align: right;\n",
       "    }\n",
       "\n",
       "    .dataframe thead th {\n",
       "        text-align: left;\n",
       "    }\n",
       "\n",
       "    .dataframe tbody tr th {\n",
       "        vertical-align: top;\n",
       "    }\n",
       "</style>\n",
       "<table border=\"1\" class=\"dataframe\">\n",
       "  <thead>\n",
       "    <tr style=\"text-align: right;\">\n",
       "      <th></th>\n",
       "      <th>Year</th>\n",
       "      <th>Win Goals</th>\n",
       "      <th>Lose Goals</th>\n",
       "      <th>Join Goal</th>\n",
       "    </tr>\n",
       "  </thead>\n",
       "  <tbody>\n",
       "    <tr>\n",
       "      <th>0</th>\n",
       "      <td>1986</td>\n",
       "      <td>1</td>\n",
       "      <td>1</td>\n",
       "      <td>11</td>\n",
       "    </tr>\n",
       "    <tr>\n",
       "      <th>1</th>\n",
       "      <td>1986</td>\n",
       "      <td>1</td>\n",
       "      <td>0</td>\n",
       "      <td>10</td>\n",
       "    </tr>\n",
       "    <tr>\n",
       "      <th>2</th>\n",
       "      <td>1986</td>\n",
       "      <td>1</td>\n",
       "      <td>0</td>\n",
       "      <td>10</td>\n",
       "    </tr>\n",
       "    <tr>\n",
       "      <th>3</th>\n",
       "      <td>1986</td>\n",
       "      <td>6</td>\n",
       "      <td>0</td>\n",
       "      <td>60</td>\n",
       "    </tr>\n",
       "    <tr>\n",
       "      <th>4</th>\n",
       "      <td>1986</td>\n",
       "      <td>3</td>\n",
       "      <td>1</td>\n",
       "      <td>31</td>\n",
       "    </tr>\n",
       "  </tbody>\n",
       "</table>\n",
       "</div>"
      ],
      "text/plain": [
       "   Year Win Goals Lose Goals Join Goal\n",
       "0  1986         1          1        11\n",
       "1  1986         1          0        10\n",
       "2  1986         1          0        10\n",
       "3  1986         6          0        60\n",
       "4  1986         3          1        31"
      ]
     },
     "execution_count": 31,
     "metadata": {},
     "output_type": "execute_result"
    }
   ],
   "source": [
    "score.head()"
   ]
  },
  {
   "cell_type": "code",
   "execution_count": 32,
   "metadata": {},
   "outputs": [
    {
     "data": {
      "text/plain": [
       "Year  Join Goal\n",
       "1986  10            8\n",
       "      11            7\n",
       "      20            4\n",
       "      21            4\n",
       "      30            4\n",
       "      00            3\n",
       "      31            2\n",
       "      22            1\n",
       "      32            1\n",
       "      60            1\n",
       "      61            1\n",
       "1990  10           10\n",
       "      21            6\n",
       "      11            5\n",
       "      20            5\n",
       "      00            3\n",
       "      31            2\n",
       "      41            2\n",
       "      51            2\n",
       "      40            1\n",
       "1994  10            8\n",
       "      21            6\n",
       "      11            4\n",
       "      20            4\n",
       "      31            3\n",
       "      00            2\n",
       "      22            2\n",
       "      30            2\n",
       "      40            2\n",
       "      32            1\n",
       "                   ..\n",
       "2006  32            1\n",
       "      41            1\n",
       "      42            1\n",
       "      60            1\n",
       "2010  10           13\n",
       "      21            7\n",
       "      00            6\n",
       "      11            6\n",
       "      20            6\n",
       "      22            2\n",
       "      30            2\n",
       "      31            2\n",
       "      32            1\n",
       "      40            1\n",
       "      41            1\n",
       "      70            1\n",
       "2014  21           11\n",
       "      10            8\n",
       "      00            5\n",
       "      31            5\n",
       "      30            4\n",
       "      11            2\n",
       "      20            2\n",
       "      22            2\n",
       "      32            2\n",
       "      40            2\n",
       "      41            2\n",
       "      42            1\n",
       "      51            1\n",
       "      52            1\n",
       "Name: Join Goal, Length: 96, dtype: int64"
      ]
     },
     "execution_count": 32,
     "metadata": {},
     "output_type": "execute_result"
    }
   ],
   "source": [
    "score.groupby(['Year'])['Join Goal'].value_counts()"
   ]
  },
  {
   "cell_type": "code",
   "execution_count": 33,
   "metadata": {},
   "outputs": [
    {
     "data": {
      "text/plain": [
       "10    73\n",
       "21    52\n",
       "11    43\n",
       "20    43\n",
       "00    29\n",
       "31    24\n",
       "30    21\n",
       "22    18\n",
       "40    11\n",
       "32    10\n",
       "41     7\n",
       "51     3\n",
       "61     3\n",
       "42     2\n",
       "60     2\n",
       "52     2\n",
       "50     2\n",
       "70     1\n",
       "80     1\n",
       "33     1\n",
       "Name: Join Goal, dtype: int64"
      ]
     },
     "execution_count": 33,
     "metadata": {},
     "output_type": "execute_result"
    }
   ],
   "source": [
    "score['Join Goal'].value_counts()"
   ]
  },
  {
   "cell_type": "code",
   "execution_count": 34,
   "metadata": {},
   "outputs": [
    {
     "data": {
      "text/plain": [
       "0.20977011494252873"
      ]
     },
     "execution_count": 34,
     "metadata": {},
     "output_type": "execute_result"
    }
   ],
   "source": [
    "73/348"
   ]
  },
  {
   "cell_type": "code",
   "execution_count": 35,
   "metadata": {},
   "outputs": [],
   "source": [
    "heatmap = np.zeros((9,9))"
   ]
  },
  {
   "cell_type": "code",
   "execution_count": 36,
   "metadata": {},
   "outputs": [
    {
     "data": {
      "text/plain": [
       "array([[ 29.,  73.,  43.,  21.,  11.,   2.,   2.,   1.,   1.],\n",
       "       [  0.,  43.,  52.,  24.,   7.,   3.,   3.,   0.,   0.],\n",
       "       [  0.,   0.,  18.,  10.,   2.,   2.,   0.,   0.,   0.],\n",
       "       [  0.,   0.,   0.,   1.,   0.,   0.,   0.,   0.,   0.],\n",
       "       [  0.,   0.,   0.,   0.,   0.,   0.,   0.,   0.,   0.],\n",
       "       [  0.,   0.,   0.,   0.,   0.,   0.,   0.,   0.,   0.],\n",
       "       [  0.,   0.,   0.,   0.,   0.,   0.,   0.,   0.,   0.],\n",
       "       [  0.,   0.,   0.,   0.,   0.,   0.,   0.,   0.,   0.],\n",
       "       [  0.,   0.,   0.,   0.,   0.,   0.,   0.,   0.,   0.]])"
      ]
     },
     "execution_count": 36,
     "metadata": {},
     "output_type": "execute_result"
    }
   ],
   "source": [
    "for index,value in score['Join Goal'].value_counts().items():\n",
    "    heatmap[int(index[1]),int(index[0])] = value # rows are loss score, columns are win score\n",
    "heatmap"
   ]
  },
  {
   "cell_type": "code",
   "execution_count": 37,
   "metadata": {},
   "outputs": [
    {
     "data": {
      "text/plain": [
       "<matplotlib.image.AxesImage at 0x11d5a5ba8>"
      ]
     },
     "execution_count": 37,
     "metadata": {},
     "output_type": "execute_result"
    },
    {
     "data": {
      "image/png": "[encoded data removed]",
      "text/plain": [
       "<matplotlib.figure.Figure at 0x11d555668>"
      ]
     },
     "metadata": {},
     "output_type": "display_data"
    }
   ],
   "source": [
    "plt.imshow(heatmap)"
   ]
  },
  {
   "cell_type": "code",
   "execution_count": 38,
   "metadata": {},
   "outputs": [
    {
     "data": {
      "text/html": [
       "<div>\n",
       "<style>\n",
       "    .dataframe thead tr:only-child th {\n",
       "        text-align: right;\n",
       "    }\n",
       "\n",
       "    .dataframe thead th {\n",
       "        text-align: left;\n",
       "    }\n",
       "\n",
       "    .dataframe tbody tr th {\n",
       "        vertical-align: top;\n",
       "    }\n",
       "</style>\n",
       "<table border=\"1\" class=\"dataframe\">\n",
       "  <thead>\n",
       "    <tr style=\"text-align: right;\">\n",
       "      <th></th>\n",
       "      <th>Year</th>\n",
       "      <th>Win Goals</th>\n",
       "      <th>Lose Goals</th>\n",
       "      <th>Join Goal</th>\n",
       "    </tr>\n",
       "  </thead>\n",
       "  <tbody>\n",
       "    <tr>\n",
       "      <th>0</th>\n",
       "      <td>1986</td>\n",
       "      <td>1</td>\n",
       "      <td>1</td>\n",
       "      <td>11</td>\n",
       "    </tr>\n",
       "    <tr>\n",
       "      <th>1</th>\n",
       "      <td>1986</td>\n",
       "      <td>1</td>\n",
       "      <td>0</td>\n",
       "      <td>10</td>\n",
       "    </tr>\n",
       "    <tr>\n",
       "      <th>2</th>\n",
       "      <td>1986</td>\n",
       "      <td>1</td>\n",
       "      <td>0</td>\n",
       "      <td>10</td>\n",
       "    </tr>\n",
       "    <tr>\n",
       "      <th>3</th>\n",
       "      <td>1986</td>\n",
       "      <td>6</td>\n",
       "      <td>0</td>\n",
       "      <td>60</td>\n",
       "    </tr>\n",
       "    <tr>\n",
       "      <th>4</th>\n",
       "      <td>1986</td>\n",
       "      <td>3</td>\n",
       "      <td>1</td>\n",
       "      <td>31</td>\n",
       "    </tr>\n",
       "    <tr>\n",
       "      <th>5</th>\n",
       "      <td>1986</td>\n",
       "      <td>0</td>\n",
       "      <td>0</td>\n",
       "      <td>00</td>\n",
       "    </tr>\n",
       "    <tr>\n",
       "      <th>6</th>\n",
       "      <td>1986</td>\n",
       "      <td>1</td>\n",
       "      <td>1</td>\n",
       "      <td>11</td>\n",
       "    </tr>\n",
       "    <tr>\n",
       "      <th>7</th>\n",
       "      <td>1986</td>\n",
       "      <td>2</td>\n",
       "      <td>1</td>\n",
       "      <td>21</td>\n",
       "    </tr>\n",
       "    <tr>\n",
       "      <th>8</th>\n",
       "      <td>1986</td>\n",
       "      <td>1</td>\n",
       "      <td>0</td>\n",
       "      <td>10</td>\n",
       "    </tr>\n",
       "    <tr>\n",
       "      <th>9</th>\n",
       "      <td>1986</td>\n",
       "      <td>1</td>\n",
       "      <td>0</td>\n",
       "      <td>10</td>\n",
       "    </tr>\n",
       "    <tr>\n",
       "      <th>10</th>\n",
       "      <td>1986</td>\n",
       "      <td>1</td>\n",
       "      <td>0</td>\n",
       "      <td>10</td>\n",
       "    </tr>\n",
       "    <tr>\n",
       "      <th>11</th>\n",
       "      <td>1986</td>\n",
       "      <td>1</td>\n",
       "      <td>1</td>\n",
       "      <td>11</td>\n",
       "    </tr>\n",
       "    <tr>\n",
       "      <th>12</th>\n",
       "      <td>1986</td>\n",
       "      <td>1</td>\n",
       "      <td>1</td>\n",
       "      <td>11</td>\n",
       "    </tr>\n",
       "    <tr>\n",
       "      <th>13</th>\n",
       "      <td>1986</td>\n",
       "      <td>1</td>\n",
       "      <td>1</td>\n",
       "      <td>11</td>\n",
       "    </tr>\n",
       "    <tr>\n",
       "      <th>14</th>\n",
       "      <td>1986</td>\n",
       "      <td>1</td>\n",
       "      <td>1</td>\n",
       "      <td>11</td>\n",
       "    </tr>\n",
       "    <tr>\n",
       "      <th>15</th>\n",
       "      <td>1986</td>\n",
       "      <td>2</td>\n",
       "      <td>0</td>\n",
       "      <td>20</td>\n",
       "    </tr>\n",
       "    <tr>\n",
       "      <th>16</th>\n",
       "      <td>1986</td>\n",
       "      <td>1</td>\n",
       "      <td>0</td>\n",
       "      <td>10</td>\n",
       "    </tr>\n",
       "    <tr>\n",
       "      <th>17</th>\n",
       "      <td>1986</td>\n",
       "      <td>0</td>\n",
       "      <td>0</td>\n",
       "      <td>00</td>\n",
       "    </tr>\n",
       "    <tr>\n",
       "      <th>18</th>\n",
       "      <td>1986</td>\n",
       "      <td>2</td>\n",
       "      <td>1</td>\n",
       "      <td>21</td>\n",
       "    </tr>\n",
       "    <tr>\n",
       "      <th>19</th>\n",
       "      <td>1986</td>\n",
       "      <td>1</td>\n",
       "      <td>1</td>\n",
       "      <td>11</td>\n",
       "    </tr>\n",
       "    <tr>\n",
       "      <th>20</th>\n",
       "      <td>1986</td>\n",
       "      <td>1</td>\n",
       "      <td>0</td>\n",
       "      <td>10</td>\n",
       "    </tr>\n",
       "    <tr>\n",
       "      <th>21</th>\n",
       "      <td>1986</td>\n",
       "      <td>2</td>\n",
       "      <td>1</td>\n",
       "      <td>21</td>\n",
       "    </tr>\n",
       "    <tr>\n",
       "      <th>22</th>\n",
       "      <td>1986</td>\n",
       "      <td>6</td>\n",
       "      <td>1</td>\n",
       "      <td>61</td>\n",
       "    </tr>\n",
       "    <tr>\n",
       "      <th>23</th>\n",
       "      <td>1986</td>\n",
       "      <td>2</td>\n",
       "      <td>1</td>\n",
       "      <td>21</td>\n",
       "    </tr>\n",
       "    <tr>\n",
       "      <th>24</th>\n",
       "      <td>1986</td>\n",
       "      <td>3</td>\n",
       "      <td>0</td>\n",
       "      <td>30</td>\n",
       "    </tr>\n",
       "    <tr>\n",
       "      <th>25</th>\n",
       "      <td>1986</td>\n",
       "      <td>2</td>\n",
       "      <td>0</td>\n",
       "      <td>20</td>\n",
       "    </tr>\n",
       "    <tr>\n",
       "      <th>26</th>\n",
       "      <td>1986</td>\n",
       "      <td>3</td>\n",
       "      <td>2</td>\n",
       "      <td>32</td>\n",
       "    </tr>\n",
       "    <tr>\n",
       "      <th>27</th>\n",
       "      <td>1986</td>\n",
       "      <td>2</td>\n",
       "      <td>0</td>\n",
       "      <td>20</td>\n",
       "    </tr>\n",
       "    <tr>\n",
       "      <th>28</th>\n",
       "      <td>1986</td>\n",
       "      <td>2</td>\n",
       "      <td>2</td>\n",
       "      <td>22</td>\n",
       "    </tr>\n",
       "    <tr>\n",
       "      <th>29</th>\n",
       "      <td>1986</td>\n",
       "      <td>1</td>\n",
       "      <td>0</td>\n",
       "      <td>10</td>\n",
       "    </tr>\n",
       "    <tr>\n",
       "      <th>...</th>\n",
       "      <td>...</td>\n",
       "      <td>...</td>\n",
       "      <td>...</td>\n",
       "      <td>...</td>\n",
       "    </tr>\n",
       "    <tr>\n",
       "      <th>318</th>\n",
       "      <td>2014</td>\n",
       "      <td>2</td>\n",
       "      <td>0</td>\n",
       "      <td>20</td>\n",
       "    </tr>\n",
       "    <tr>\n",
       "      <th>319</th>\n",
       "      <td>2014</td>\n",
       "      <td>4</td>\n",
       "      <td>0</td>\n",
       "      <td>40</td>\n",
       "    </tr>\n",
       "    <tr>\n",
       "      <th>320</th>\n",
       "      <td>2014</td>\n",
       "      <td>2</td>\n",
       "      <td>1</td>\n",
       "      <td>21</td>\n",
       "    </tr>\n",
       "    <tr>\n",
       "      <th>321</th>\n",
       "      <td>2014</td>\n",
       "      <td>2</td>\n",
       "      <td>1</td>\n",
       "      <td>21</td>\n",
       "    </tr>\n",
       "    <tr>\n",
       "      <th>322</th>\n",
       "      <td>2014</td>\n",
       "      <td>0</td>\n",
       "      <td>0</td>\n",
       "      <td>00</td>\n",
       "    </tr>\n",
       "    <tr>\n",
       "      <th>323</th>\n",
       "      <td>2014</td>\n",
       "      <td>1</td>\n",
       "      <td>0</td>\n",
       "      <td>10</td>\n",
       "    </tr>\n",
       "    <tr>\n",
       "      <th>324</th>\n",
       "      <td>2014</td>\n",
       "      <td>5</td>\n",
       "      <td>2</td>\n",
       "      <td>52</td>\n",
       "    </tr>\n",
       "    <tr>\n",
       "      <th>325</th>\n",
       "      <td>2014</td>\n",
       "      <td>2</td>\n",
       "      <td>1</td>\n",
       "      <td>21</td>\n",
       "    </tr>\n",
       "    <tr>\n",
       "      <th>326</th>\n",
       "      <td>2014</td>\n",
       "      <td>1</td>\n",
       "      <td>0</td>\n",
       "      <td>10</td>\n",
       "    </tr>\n",
       "    <tr>\n",
       "      <th>327</th>\n",
       "      <td>2014</td>\n",
       "      <td>2</td>\n",
       "      <td>2</td>\n",
       "      <td>22</td>\n",
       "    </tr>\n",
       "    <tr>\n",
       "      <th>328</th>\n",
       "      <td>2014</td>\n",
       "      <td>1</td>\n",
       "      <td>0</td>\n",
       "      <td>10</td>\n",
       "    </tr>\n",
       "    <tr>\n",
       "      <th>329</th>\n",
       "      <td>2014</td>\n",
       "      <td>1</td>\n",
       "      <td>0</td>\n",
       "      <td>10</td>\n",
       "    </tr>\n",
       "    <tr>\n",
       "      <th>330</th>\n",
       "      <td>2014</td>\n",
       "      <td>4</td>\n",
       "      <td>2</td>\n",
       "      <td>42</td>\n",
       "    </tr>\n",
       "    <tr>\n",
       "      <th>331</th>\n",
       "      <td>2014</td>\n",
       "      <td>2</td>\n",
       "      <td>2</td>\n",
       "      <td>22</td>\n",
       "    </tr>\n",
       "    <tr>\n",
       "      <th>332</th>\n",
       "      <td>2014</td>\n",
       "      <td>3</td>\n",
       "      <td>0</td>\n",
       "      <td>30</td>\n",
       "    </tr>\n",
       "    <tr>\n",
       "      <th>333</th>\n",
       "      <td>2014</td>\n",
       "      <td>2</td>\n",
       "      <td>0</td>\n",
       "      <td>20</td>\n",
       "    </tr>\n",
       "    <tr>\n",
       "      <th>334</th>\n",
       "      <td>2014</td>\n",
       "      <td>4</td>\n",
       "      <td>1</td>\n",
       "      <td>41</td>\n",
       "    </tr>\n",
       "    <tr>\n",
       "      <th>335</th>\n",
       "      <td>2014</td>\n",
       "      <td>3</td>\n",
       "      <td>1</td>\n",
       "      <td>31</td>\n",
       "    </tr>\n",
       "    <tr>\n",
       "      <th>336</th>\n",
       "      <td>2014</td>\n",
       "      <td>1</td>\n",
       "      <td>0</td>\n",
       "      <td>10</td>\n",
       "    </tr>\n",
       "    <tr>\n",
       "      <th>337</th>\n",
       "      <td>2014</td>\n",
       "      <td>0</td>\n",
       "      <td>0</td>\n",
       "      <td>00</td>\n",
       "    </tr>\n",
       "    <tr>\n",
       "      <th>338</th>\n",
       "      <td>2014</td>\n",
       "      <td>4</td>\n",
       "      <td>1</td>\n",
       "      <td>41</td>\n",
       "    </tr>\n",
       "    <tr>\n",
       "      <th>339</th>\n",
       "      <td>2014</td>\n",
       "      <td>2</td>\n",
       "      <td>1</td>\n",
       "      <td>21</td>\n",
       "    </tr>\n",
       "    <tr>\n",
       "      <th>340</th>\n",
       "      <td>2014</td>\n",
       "      <td>3</td>\n",
       "      <td>2</td>\n",
       "      <td>32</td>\n",
       "    </tr>\n",
       "    <tr>\n",
       "      <th>341</th>\n",
       "      <td>2014</td>\n",
       "      <td>3</td>\n",
       "      <td>1</td>\n",
       "      <td>31</td>\n",
       "    </tr>\n",
       "    <tr>\n",
       "      <th>342</th>\n",
       "      <td>2014</td>\n",
       "      <td>3</td>\n",
       "      <td>0</td>\n",
       "      <td>30</td>\n",
       "    </tr>\n",
       "    <tr>\n",
       "      <th>343</th>\n",
       "      <td>2014</td>\n",
       "      <td>0</td>\n",
       "      <td>0</td>\n",
       "      <td>00</td>\n",
       "    </tr>\n",
       "    <tr>\n",
       "      <th>344</th>\n",
       "      <td>2014</td>\n",
       "      <td>1</td>\n",
       "      <td>0</td>\n",
       "      <td>10</td>\n",
       "    </tr>\n",
       "    <tr>\n",
       "      <th>345</th>\n",
       "      <td>2014</td>\n",
       "      <td>2</td>\n",
       "      <td>1</td>\n",
       "      <td>21</td>\n",
       "    </tr>\n",
       "    <tr>\n",
       "      <th>346</th>\n",
       "      <td>2014</td>\n",
       "      <td>1</td>\n",
       "      <td>0</td>\n",
       "      <td>10</td>\n",
       "    </tr>\n",
       "    <tr>\n",
       "      <th>347</th>\n",
       "      <td>2014</td>\n",
       "      <td>1</td>\n",
       "      <td>1</td>\n",
       "      <td>11</td>\n",
       "    </tr>\n",
       "  </tbody>\n",
       "</table>\n",
       "<p>348 rows × 4 columns</p>\n",
       "</div>"
      ],
      "text/plain": [
       "     Year Win Goals Lose Goals Join Goal\n",
       "0    1986         1          1        11\n",
       "1    1986         1          0        10\n",
       "2    1986         1          0        10\n",
       "3    1986         6          0        60\n",
       "4    1986         3          1        31\n",
       "5    1986         0          0        00\n",
       "6    1986         1          1        11\n",
       "7    1986         2          1        21\n",
       "8    1986         1          0        10\n",
       "9    1986         1          0        10\n",
       "10   1986         1          0        10\n",
       "11   1986         1          1        11\n",
       "12   1986         1          1        11\n",
       "13   1986         1          1        11\n",
       "14   1986         1          1        11\n",
       "15   1986         2          0        20\n",
       "16   1986         1          0        10\n",
       "17   1986         0          0        00\n",
       "18   1986         2          1        21\n",
       "19   1986         1          1        11\n",
       "20   1986         1          0        10\n",
       "21   1986         2          1        21\n",
       "22   1986         6          1        61\n",
       "23   1986         2          1        21\n",
       "24   1986         3          0        30\n",
       "25   1986         2          0        20\n",
       "26   1986         3          2        32\n",
       "27   1986         2          0        20\n",
       "28   1986         2          2        22\n",
       "29   1986         1          0        10\n",
       "..    ...       ...        ...       ...\n",
       "318  2014         2          0        20\n",
       "319  2014         4          0        40\n",
       "320  2014         2          1        21\n",
       "321  2014         2          1        21\n",
       "322  2014         0          0        00\n",
       "323  2014         1          0        10\n",
       "324  2014         5          2        52\n",
       "325  2014         2          1        21\n",
       "326  2014         1          0        10\n",
       "327  2014         2          2        22\n",
       "328  2014         1          0        10\n",
       "329  2014         1          0        10\n",
       "330  2014         4          2        42\n",
       "331  2014         2          2        22\n",
       "332  2014         3          0        30\n",
       "333  2014         2          0        20\n",
       "334  2014         4          1        41\n",
       "335  2014         3          1        31\n",
       "336  2014         1          0        10\n",
       "337  2014         0          0        00\n",
       "338  2014         4          1        41\n",
       "339  2014         2          1        21\n",
       "340  2014         3          2        32\n",
       "341  2014         3          1        31\n",
       "342  2014         3          0        30\n",
       "343  2014         0          0        00\n",
       "344  2014         1          0        10\n",
       "345  2014         2          1        21\n",
       "346  2014         1          0        10\n",
       "347  2014         1          1        11\n",
       "\n",
       "[348 rows x 4 columns]"
      ]
     },
     "execution_count": 38,
     "metadata": {},
     "output_type": "execute_result"
    }
   ],
   "source": [
    "score"
   ]
  },
  {
   "cell_type": "code",
   "execution_count": 39,
   "metadata": {},
   "outputs": [],
   "source": [
    "x = data_test[['Wscore','Lscore']]"
   ]
  },
  {
   "cell_type": "code",
   "execution_count": 40,
   "metadata": {},
   "outputs": [
    {
     "data": {
      "text/plain": [
       "10    13\n",
       "21    11\n",
       "20     6\n",
       "30     5\n",
       "11     4\n",
       "22     3\n",
       "33     1\n",
       "61     1\n",
       "52     1\n",
       "31     1\n",
       "00     1\n",
       "50     1\n",
       "Name: Join Goal, dtype: int64"
      ]
     },
     "execution_count": 40,
     "metadata": {},
     "output_type": "execute_result"
    }
   ],
   "source": [
    "x = x.applymap(int)\n",
    "x = x.applymap(str)\n",
    "x['Join Goal'] = x['Wscore']+x['Lscore']\n",
    "x['Join Goal'].value_counts()"
   ]
  },
  {
   "cell_type": "code",
   "execution_count": 41,
   "metadata": {},
   "outputs": [
    {
     "data": {
      "text/plain": [
       "10    73\n",
       "21    52\n",
       "11    43\n",
       "20    43\n",
       "00    29\n",
       "31    24\n",
       "30    21\n",
       "22    18\n",
       "40    11\n",
       "32    10\n",
       "41     7\n",
       "51     3\n",
       "61     3\n",
       "42     2\n",
       "60     2\n",
       "52     2\n",
       "50     2\n",
       "70     1\n",
       "80     1\n",
       "33     1\n",
       "Name: Join Goal, dtype: int64"
      ]
     },
     "execution_count": 41,
     "metadata": {},
     "output_type": "execute_result"
    }
   ],
   "source": [
    "score['Join Goal'].value_counts()"
   ]
  },
  {
   "cell_type": "code",
   "execution_count": 42,
   "metadata": {},
   "outputs": [],
   "source": [
    "y = (data_train['Win Goals'] + data_train['Lose Goals']).value_counts()"
   ]
  },
  {
   "cell_type": "code",
   "execution_count": 43,
   "metadata": {},
   "outputs": [
    {
     "data": {
      "text/plain": [
       "[<matplotlib.lines.Line2D at 0x11d5bd278>]"
      ]
     },
     "execution_count": 43,
     "metadata": {},
     "output_type": "execute_result"
    },
    {
     "data": {
      "image/png": "[encoded data removed]",
      "text/plain": [
       "<matplotlib.figure.Figure at 0x11d5bd9e8>"
      ]
     },
     "metadata": {},
     "output_type": "display_data"
    }
   ],
   "source": [
    "plt.bar(y.index,y)\n",
    "fact = [np.math.factorial(i) for i in [0,1,2,3,4,5,6,7,8]]\n",
    "plt.plot([0,1,2,3,4,5,6,7,8],np.exp(-2.49)*2.49**np.array([0,1,2,3,4,5,6,7,8])/fact*350)"
   ]
  },
  {
   "cell_type": "code",
   "execution_count": 44,
   "metadata": {},
   "outputs": [
    {
     "ename": "AttributeError",
     "evalue": "'numpy.ndarray' object has no attribute 'apply'",
     "output_type": "error",
     "traceback": [
      "\u001b[0;31m---------------------------------------------------------------------------\u001b[0m",
      "\u001b[0;31mAttributeError\u001b[0m                            Traceback (most recent call last)",
      "\u001b[0;32m<ipython-input-44-5e80cb02f214>\u001b[0m in \u001b[0;36m<module>\u001b[0;34m()\u001b[0m\n\u001b[0;32m----> 1\u001b[0;31m \u001b[0mnp\u001b[0m\u001b[0;34m.\u001b[0m\u001b[0marray\u001b[0m\u001b[0;34m(\u001b[0m\u001b[0;34m[\u001b[0m\u001b[0;36m1\u001b[0m\u001b[0;34m,\u001b[0m\u001b[0;36m3\u001b[0m\u001b[0;34m]\u001b[0m\u001b[0;34m)\u001b[0m\u001b[0;34m.\u001b[0m\u001b[0mapply\u001b[0m\u001b[0;34m(\u001b[0m\u001b[0mnp\u001b[0m\u001b[0;34m.\u001b[0m\u001b[0mmath\u001b[0m\u001b[0;34m.\u001b[0m\u001b[0mfactorial\u001b[0m\u001b[0;34m)\u001b[0m\u001b[0;34m\u001b[0m\u001b[0m\n\u001b[0m",
      "\u001b[0;31mAttributeError\u001b[0m: 'numpy.ndarray' object has no attribute 'apply'"
     ]
    }
   ],
   "source": [
    "np.array([1,3]).apply(np.math.factorial)"
   ]
  },
  {
   "cell_type": "code",
   "execution_count": null,
   "metadata": {
    "collapsed": true
   },
   "outputs": [],
   "source": []
  }
 ],
 "metadata": {
  "kernelspec": {
   "display_name": "Python 3",
   "language": "python",
   "name": "python3"
  },
  "language_info": {
   "codemirror_mode": {
    "name": "ipython",
    "version": 3
   },
   "file_extension": ".py",
   "mimetype": "text/x-python",
   "name": "python",
   "nbconvert_exporter": "python",
   "pygments_lexer": "ipython3",
   "version": "3.6.0"
  }
 },
 "nbformat": 4,
 "nbformat_minor": 2
}

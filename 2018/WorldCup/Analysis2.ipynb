{
 "cells": [
  {
   "cell_type": "code",
   "execution_count": 1,
   "metadata": {
    "collapsed": true
   },
   "outputs": [],
   "source": [
    "import pandas as pd\n",
    "import numpy as np\n",
    "from collections import defaultdict\n",
    "import matplotlib.pyplot as plt\n",
    "\n",
    "%matplotlib inline"
   ]
  },
  {
   "cell_type": "code",
   "execution_count": 2,
   "metadata": {
    "collapsed": true
   },
   "outputs": [],
   "source": [
    "# read data\n",
    "data_train = pd.read_csv('WorldCupMatches.csv') \n",
    "# drop nan rows\n",
    "data_train.dropna(axis=0, how='any', inplace=True)\n",
    "# drop duplicate rows\n",
    "data_train.drop_duplicates(inplace=True)"
   ]
  },
  {
   "cell_type": "code",
   "execution_count": 3,
   "metadata": {
    "collapsed": true
   },
   "outputs": [],
   "source": [
    "# only using the data from the Group Stage\n",
    "data_train = data_train[\n",
    "    data_train['Stage'].isin(\n",
    "        ['Group A','Group B','Group C','Group D','Group E','Group F','Group G','Group H'])]\n",
    "# only using data since 1986\n",
    "data_train = data_train[data_train['Year']>=1986]\n",
    "# reset the index\n",
    "data_train.reset_index(inplace=True);"
   ]
  },
  {
   "cell_type": "code",
   "execution_count": 4,
   "metadata": {},
   "outputs": [
    {
     "data": {
      "text/plain": [
       "2014.0    48\n",
       "2002.0    48\n",
       "1998.0    48\n",
       "2006.0    48\n",
       "2010.0    48\n",
       "1990.0    36\n",
       "1994.0    36\n",
       "1986.0    36\n",
       "Name: Year, dtype: int64"
      ]
     },
     "execution_count": 4,
     "metadata": {},
     "output_type": "execute_result"
    }
   ],
   "source": [
    "data_train['Year'].value_counts()"
   ]
  },
  {
   "cell_type": "code",
   "execution_count": 5,
   "metadata": {},
   "outputs": [
    {
     "data": {
      "text/html": [
       "<div>\n",
       "<style>\n",
       "    .dataframe thead tr:only-child th {\n",
       "        text-align: right;\n",
       "    }\n",
       "\n",
       "    .dataframe thead th {\n",
       "        text-align: left;\n",
       "    }\n",
       "\n",
       "    .dataframe tbody tr th {\n",
       "        vertical-align: top;\n",
       "    }\n",
       "</style>\n",
       "<table border=\"1\" class=\"dataframe\">\n",
       "  <thead>\n",
       "    <tr style=\"text-align: right;\">\n",
       "      <th></th>\n",
       "      <th>index</th>\n",
       "      <th>Year</th>\n",
       "      <th>Datetime</th>\n",
       "      <th>Stage</th>\n",
       "      <th>Stadium</th>\n",
       "      <th>City</th>\n",
       "      <th>Home Team Name</th>\n",
       "      <th>Home Team Goals</th>\n",
       "      <th>Away Team Goals</th>\n",
       "      <th>Away Team Name</th>\n",
       "      <th>...</th>\n",
       "      <th>Attendance</th>\n",
       "      <th>Half-time Home Goals</th>\n",
       "      <th>Half-time Away Goals</th>\n",
       "      <th>Referee</th>\n",
       "      <th>Assistant 1</th>\n",
       "      <th>Assistant 2</th>\n",
       "      <th>RoundID</th>\n",
       "      <th>MatchID</th>\n",
       "      <th>Home Team Initials</th>\n",
       "      <th>Away Team Initials</th>\n",
       "    </tr>\n",
       "  </thead>\n",
       "  <tbody>\n",
       "    <tr>\n",
       "      <th>0</th>\n",
       "      <td>360</td>\n",
       "      <td>1986.0</td>\n",
       "      <td>31 May 1986 - 12:00</td>\n",
       "      <td>Group A</td>\n",
       "      <td>Estadio Azteca</td>\n",
       "      <td>Mexico City</td>\n",
       "      <td>Bulgaria</td>\n",
       "      <td>1.0</td>\n",
       "      <td>1.0</td>\n",
       "      <td>Italy</td>\n",
       "      <td>...</td>\n",
       "      <td>96000.0</td>\n",
       "      <td>0.0</td>\n",
       "      <td>1.0</td>\n",
       "      <td>FREDRIKSSON Erik (SWE)</td>\n",
       "      <td>CODESAL MENDEZ Edgardo (MEX)</td>\n",
       "      <td>ROTH Volker (GER)</td>\n",
       "      <td>308.0</td>\n",
       "      <td>459.0</td>\n",
       "      <td>BUL</td>\n",
       "      <td>ITA</td>\n",
       "    </tr>\n",
       "    <tr>\n",
       "      <th>1</th>\n",
       "      <td>361</td>\n",
       "      <td>1986.0</td>\n",
       "      <td>01 Jun 1986 - 16:00</td>\n",
       "      <td>Group C</td>\n",
       "      <td>Nou Camp - Estadio Le�n</td>\n",
       "      <td>Leon</td>\n",
       "      <td>Canada</td>\n",
       "      <td>0.0</td>\n",
       "      <td>1.0</td>\n",
       "      <td>France</td>\n",
       "      <td>...</td>\n",
       "      <td>65500.0</td>\n",
       "      <td>0.0</td>\n",
       "      <td>0.0</td>\n",
       "      <td>SILVA ARCE Hernan (CHI)</td>\n",
       "      <td>MENDEZ MOLINA Romulo (GUA)</td>\n",
       "      <td>ULLOA MORERA Berny (CRC)</td>\n",
       "      <td>308.0</td>\n",
       "      <td>468.0</td>\n",
       "      <td>CAN</td>\n",
       "      <td>FRA</td>\n",
       "    </tr>\n",
       "    <tr>\n",
       "      <th>2</th>\n",
       "      <td>362</td>\n",
       "      <td>1986.0</td>\n",
       "      <td>01 Jun 1986 - 12:00</td>\n",
       "      <td>Group D</td>\n",
       "      <td>Jalisco</td>\n",
       "      <td>Guadalajara</td>\n",
       "      <td>Spain</td>\n",
       "      <td>0.0</td>\n",
       "      <td>1.0</td>\n",
       "      <td>Brazil</td>\n",
       "      <td>...</td>\n",
       "      <td>35748.0</td>\n",
       "      <td>0.0</td>\n",
       "      <td>0.0</td>\n",
       "      <td>BAMBRIDGE Christopher (AUS)</td>\n",
       "      <td>SOCHA David (USA)</td>\n",
       "      <td>KEIZER Jan (NED)</td>\n",
       "      <td>308.0</td>\n",
       "      <td>439.0</td>\n",
       "      <td>ESP</td>\n",
       "      <td>BRA</td>\n",
       "    </tr>\n",
       "    <tr>\n",
       "      <th>3</th>\n",
       "      <td>363</td>\n",
       "      <td>1986.0</td>\n",
       "      <td>02 Jun 1986 - 12:00</td>\n",
       "      <td>Group C</td>\n",
       "      <td>Estadio Irapuato</td>\n",
       "      <td>Irapuato</td>\n",
       "      <td>Soviet Union</td>\n",
       "      <td>6.0</td>\n",
       "      <td>0.0</td>\n",
       "      <td>Hungary</td>\n",
       "      <td>...</td>\n",
       "      <td>16500.0</td>\n",
       "      <td>3.0</td>\n",
       "      <td>0.0</td>\n",
       "      <td>AGNOLIN Luigi (ITA)</td>\n",
       "      <td>COURTNEY George (ENG)</td>\n",
       "      <td>BRUMMEIER Horst (AUT)</td>\n",
       "      <td>308.0</td>\n",
       "      <td>610.0</td>\n",
       "      <td>URS</td>\n",
       "      <td>HUN</td>\n",
       "    </tr>\n",
       "    <tr>\n",
       "      <th>4</th>\n",
       "      <td>364</td>\n",
       "      <td>1986.0</td>\n",
       "      <td>02 Jun 1986 - 12:00</td>\n",
       "      <td>Group A</td>\n",
       "      <td>Estadio Ol�mpico Universitario</td>\n",
       "      <td>Mexico City</td>\n",
       "      <td>Argentina</td>\n",
       "      <td>3.0</td>\n",
       "      <td>1.0</td>\n",
       "      <td>Korea Republic</td>\n",
       "      <td>...</td>\n",
       "      <td>60000.0</td>\n",
       "      <td>2.0</td>\n",
       "      <td>0.0</td>\n",
       "      <td>SANCHEZ ARMINIO Victoriano (ESP)</td>\n",
       "      <td>GONZALEZ ROA Gabriel (PAR)</td>\n",
       "      <td>DIAZ PALACIO Jesus (COL)</td>\n",
       "      <td>308.0</td>\n",
       "      <td>395.0</td>\n",
       "      <td>ARG</td>\n",
       "      <td>KOR</td>\n",
       "    </tr>\n",
       "  </tbody>\n",
       "</table>\n",
       "<p>5 rows × 21 columns</p>\n",
       "</div>"
      ],
      "text/plain": [
       "   index    Year              Datetime    Stage  \\\n",
       "0    360  1986.0  31 May 1986 - 12:00   Group A   \n",
       "1    361  1986.0  01 Jun 1986 - 16:00   Group C   \n",
       "2    362  1986.0  01 Jun 1986 - 12:00   Group D   \n",
       "3    363  1986.0  02 Jun 1986 - 12:00   Group C   \n",
       "4    364  1986.0  02 Jun 1986 - 12:00   Group A   \n",
       "\n",
       "                          Stadium          City Home Team Name  \\\n",
       "0                  Estadio Azteca  Mexico City        Bulgaria   \n",
       "1         Nou Camp - Estadio Le�n         Leon          Canada   \n",
       "2                         Jalisco  Guadalajara           Spain   \n",
       "3                Estadio Irapuato     Irapuato    Soviet Union   \n",
       "4  Estadio Ol�mpico Universitario  Mexico City       Argentina   \n",
       "\n",
       "   Home Team Goals  Away Team Goals  Away Team Name        ...          \\\n",
       "0              1.0              1.0           Italy        ...           \n",
       "1              0.0              1.0          France        ...           \n",
       "2              0.0              1.0          Brazil        ...           \n",
       "3              6.0              0.0         Hungary        ...           \n",
       "4              3.0              1.0  Korea Republic        ...           \n",
       "\n",
       "  Attendance  Half-time Home Goals  Half-time Away Goals  \\\n",
       "0    96000.0                   0.0                   1.0   \n",
       "1    65500.0                   0.0                   0.0   \n",
       "2    35748.0                   0.0                   0.0   \n",
       "3    16500.0                   3.0                   0.0   \n",
       "4    60000.0                   2.0                   0.0   \n",
       "\n",
       "                            Referee                   Assistant 1  \\\n",
       "0            FREDRIKSSON Erik (SWE)  CODESAL MENDEZ Edgardo (MEX)   \n",
       "1           SILVA ARCE Hernan (CHI)    MENDEZ MOLINA Romulo (GUA)   \n",
       "2       BAMBRIDGE Christopher (AUS)             SOCHA David (USA)   \n",
       "3               AGNOLIN Luigi (ITA)         COURTNEY George (ENG)   \n",
       "4  SANCHEZ ARMINIO Victoriano (ESP)    GONZALEZ ROA Gabriel (PAR)   \n",
       "\n",
       "                Assistant 2 RoundID  MatchID  Home Team Initials  \\\n",
       "0         ROTH Volker (GER)   308.0    459.0                 BUL   \n",
       "1  ULLOA MORERA Berny (CRC)   308.0    468.0                 CAN   \n",
       "2          KEIZER Jan (NED)   308.0    439.0                 ESP   \n",
       "3     BRUMMEIER Horst (AUT)   308.0    610.0                 URS   \n",
       "4  DIAZ PALACIO Jesus (COL)   308.0    395.0                 ARG   \n",
       "\n",
       "  Away Team Initials  \n",
       "0                ITA  \n",
       "1                FRA  \n",
       "2                BRA  \n",
       "3                HUN  \n",
       "4                KOR  \n",
       "\n",
       "[5 rows x 21 columns]"
      ]
     },
     "execution_count": 5,
     "metadata": {},
     "output_type": "execute_result"
    }
   ],
   "source": [
    "data_train.head()"
   ]
  },
  {
   "cell_type": "code",
   "execution_count": 6,
   "metadata": {
    "collapsed": true
   },
   "outputs": [],
   "source": [
    "# get a subset of the columns\n",
    "data_train = data_train[['Year','Home Team Goals',\n",
    "                         'Away Team Goals','Home Team Initials','Away Team Initials']]"
   ]
  },
  {
   "cell_type": "code",
   "execution_count": 7,
   "metadata": {
    "collapsed": true
   },
   "outputs": [],
   "source": [
    "# Creates a column with the number of winning and losing goals\n",
    "data_train['Win Goals'] = data_train[['Home Team Goals','Away Team Goals']].max(axis=1)\n",
    "data_train['Lose Goals'] = data_train[['Home Team Goals','Away Team Goals']].min(axis=1)"
   ]
  },
  {
   "cell_type": "code",
   "execution_count": 8,
   "metadata": {},
   "outputs": [],
   "source": [
    "def Win_Team_Func(data_row):\n",
    "    if data_row['Home Team Goals'] >= data_row['Away Team Goals']:\n",
    "        return data_row['Home Team Initials']\n",
    "    else:\n",
    "        return data_row['Away Team Initials']\n",
    "data_train['Win Team'] = data_train.apply(Win_Team_Func,axis=1)"
   ]
  },
  {
   "cell_type": "code",
   "execution_count": 9,
   "metadata": {
    "collapsed": true
   },
   "outputs": [],
   "source": [
    "def Lose_Team_Func(data_row):\n",
    "    if data_row['Home Team Goals'] >= data_row['Away Team Goals']:\n",
    "        return data_row['Away Team Initials']\n",
    "    else:\n",
    "        return data_row['Home Team Initials']\n",
    "data_train['Lose Team'] = data_train.apply(Lose_Team_Func,axis=1)"
   ]
  },
  {
   "cell_type": "code",
   "execution_count": 10,
   "metadata": {},
   "outputs": [],
   "source": [
    "# creates a column with ties\n",
    "data_train['Tie']=data_train['Win Goals']==data_train['Lose Goals']"
   ]
  },
  {
   "cell_type": "code",
   "execution_count": 11,
   "metadata": {},
   "outputs": [
    {
     "data": {
      "text/html": [
       "<div>\n",
       "<style>\n",
       "    .dataframe thead tr:only-child th {\n",
       "        text-align: right;\n",
       "    }\n",
       "\n",
       "    .dataframe thead th {\n",
       "        text-align: left;\n",
       "    }\n",
       "\n",
       "    .dataframe tbody tr th {\n",
       "        vertical-align: top;\n",
       "    }\n",
       "</style>\n",
       "<table border=\"1\" class=\"dataframe\">\n",
       "  <thead>\n",
       "    <tr style=\"text-align: right;\">\n",
       "      <th></th>\n",
       "      <th>Year</th>\n",
       "      <th>Win Goals</th>\n",
       "      <th>Lose Goals</th>\n",
       "      <th>Win Team</th>\n",
       "      <th>Lose Team</th>\n",
       "      <th>Tie</th>\n",
       "    </tr>\n",
       "  </thead>\n",
       "  <tbody>\n",
       "    <tr>\n",
       "      <th>0</th>\n",
       "      <td>1986.0</td>\n",
       "      <td>1.0</td>\n",
       "      <td>1.0</td>\n",
       "      <td>BUL</td>\n",
       "      <td>ITA</td>\n",
       "      <td>True</td>\n",
       "    </tr>\n",
       "    <tr>\n",
       "      <th>1</th>\n",
       "      <td>1986.0</td>\n",
       "      <td>1.0</td>\n",
       "      <td>0.0</td>\n",
       "      <td>FRA</td>\n",
       "      <td>CAN</td>\n",
       "      <td>False</td>\n",
       "    </tr>\n",
       "    <tr>\n",
       "      <th>2</th>\n",
       "      <td>1986.0</td>\n",
       "      <td>1.0</td>\n",
       "      <td>0.0</td>\n",
       "      <td>BRA</td>\n",
       "      <td>ESP</td>\n",
       "      <td>False</td>\n",
       "    </tr>\n",
       "    <tr>\n",
       "      <th>3</th>\n",
       "      <td>1986.0</td>\n",
       "      <td>6.0</td>\n",
       "      <td>0.0</td>\n",
       "      <td>URS</td>\n",
       "      <td>HUN</td>\n",
       "      <td>False</td>\n",
       "    </tr>\n",
       "    <tr>\n",
       "      <th>4</th>\n",
       "      <td>1986.0</td>\n",
       "      <td>3.0</td>\n",
       "      <td>1.0</td>\n",
       "      <td>ARG</td>\n",
       "      <td>KOR</td>\n",
       "      <td>False</td>\n",
       "    </tr>\n",
       "  </tbody>\n",
       "</table>\n",
       "</div>"
      ],
      "text/plain": [
       "     Year  Win Goals  Lose Goals Win Team Lose Team    Tie\n",
       "0  1986.0        1.0         1.0      BUL       ITA   True\n",
       "1  1986.0        1.0         0.0      FRA       CAN  False\n",
       "2  1986.0        1.0         0.0      BRA       ESP  False\n",
       "3  1986.0        6.0         0.0      URS       HUN  False\n",
       "4  1986.0        3.0         1.0      ARG       KOR  False"
      ]
     },
     "execution_count": 11,
     "metadata": {},
     "output_type": "execute_result"
    }
   ],
   "source": [
    "# drops columns not needed\n",
    "clmns = ['Home Team Goals','Away Team Goals','Home Team Initials','Away Team Initials']\n",
    "data_train.drop(labels=clmns,axis=1, inplace=True)\n",
    "data_train.head()"
   ]
  },
  {
   "cell_type": "code",
   "execution_count": 12,
   "metadata": {
    "collapsed": true
   },
   "outputs": [],
   "source": [
    "data_test = pd.read_excel('Scores.xlsx','2018') # testing data from 2018\n",
    "Total_Games = 48 # number of games in total"
   ]
  },
  {
   "cell_type": "code",
   "execution_count": 13,
   "metadata": {
    "collapsed": true
   },
   "outputs": [],
   "source": [
    "def Outcome(data):\n",
    "    if data.Wscore>data.Lscore:\n",
    "        return(data.Winner)\n",
    "    else:\n",
    "        return 'T'"
   ]
  },
  {
   "cell_type": "code",
   "execution_count": 14,
   "metadata": {},
   "outputs": [
    {
     "data": {
      "text/plain": [
       "['Russia', 'Uruguay ', 'Iran', 'T', 'France']"
      ]
     },
     "execution_count": 14,
     "metadata": {},
     "output_type": "execute_result"
    }
   ],
   "source": [
    "True_Table_Test = ([Outcome(data_test.iloc[i]) for i in range(Total_Games)])\n",
    "\n",
    "True_Table_Test[0:5]"
   ]
  },
  {
   "cell_type": "code",
   "execution_count": null,
   "metadata": {
    "collapsed": true
   },
   "outputs": [],
   "source": []
  },
  {
   "cell_type": "code",
   "execution_count": 15,
   "metadata": {},
   "outputs": [],
   "source": [
    "unique_years = data_train['Year'].unique()"
   ]
  },
  {
   "cell_type": "code",
   "execution_count": 16,
   "metadata": {},
   "outputs": [],
   "source": [
    "from collections import defaultdict\n",
    "\n",
    "def CreateWLT_Matrix(temp_data):\n",
    "    Country_score = defaultdict(list)\n",
    "    for i in range(len(temp_data)):\n",
    "        # if it is a tie\n",
    "        if temp_data.iloc[i]['Tie'] == True:\n",
    "            Country_score[temp_data.iloc[i]['Win Team']].append('T')\n",
    "            Country_score[temp_data.iloc[i]['Lose Team']].append('T')\n",
    "        else:\n",
    "            Country_score[temp_data.iloc[i]['Win Team']].append('W')\n",
    "            Country_score[temp_data.iloc[i]['Lose Team']].append('L')\n",
    "    return Country_score"
   ]
  },
  {
   "cell_type": "code",
   "execution_count": 17,
   "metadata": {},
   "outputs": [],
   "source": [
    "def Create_Features(temp_data,Country_score,Features):\n",
    "    Country_game = defaultdict(int)\n",
    "#     columns = ['TeamA_1','TeamA_2','TeamB_1','TeamB_2','Outcome']\n",
    "#     Features = pd.DataFrame(columns=columns) # outcome is Team A, Team B or Tie        \n",
    "    for i in range(len(temp_data)):\n",
    "        if Country_game[temp_data.iloc[i]['Win Team']] == 0: # first game\n",
    "            if temp_data.iloc[i]['Tie'] == True:\n",
    "                temp = pd.DataFrame([['N','N','N','N','T']],columns=columns)\n",
    "                Features = Features.append(temp)\n",
    "                Features = Features.append(temp) # we do it twice to account A and B swapping\n",
    "\n",
    "            else:    \n",
    "                temp = pd.DataFrame([['N','N','N','N','A']],columns=columns)\n",
    "                Features = Features.append(temp)\n",
    "                temp = pd.DataFrame([['N','N','N','N','B']],columns=columns)\n",
    "                Features = Features.append(temp) \n",
    "\n",
    "        elif Country_game[temp_data.iloc[i]['Win Team']] == 1: # second game\n",
    "            if temp_data.iloc[i]['Tie'] == True:\n",
    "                temp = pd.DataFrame([[Country_score[temp_data.iloc[i]['Win Team']][0],'N'\n",
    "                                      ,Country_score[temp_data.iloc[i]['Lose Team']][0],'N','T']],columns=columns)\n",
    "                Features = Features.append(temp)\n",
    "                temp = pd.DataFrame([[Country_score[temp_data.iloc[i]['Lose Team']][0],'N',\n",
    "                                      Country_score[temp_data.iloc[i]['Win Team']][0],'N','T']],columns=columns)\n",
    "                Features = Features.append(temp) \n",
    "\n",
    "                \n",
    "            else:    \n",
    "                temp = pd.DataFrame([[Country_score[temp_data.iloc[i]['Win Team']][0],'N'\n",
    "                                      ,Country_score[temp_data.iloc[i]['Lose Team']][0],'N','A']],columns=columns)\n",
    "                Features = Features.append(temp)\n",
    "                temp = pd.DataFrame([[Country_score[temp_data.iloc[i]['Lose Team']][0],'N',\n",
    "                                      Country_score[temp_data.iloc[i]['Win Team']][0],'N','B']],columns=columns)\n",
    "                Features = Features.append(temp) \n",
    "\n",
    "        elif Country_game[temp_data.iloc[i]['Win Team']] == 2: # third game\n",
    "            if temp_data.iloc[i]['Tie'] == True:\n",
    "                temp = pd.DataFrame([[Country_score[temp_data.iloc[i]['Win Team']][0],Country_score[temp_data.iloc[i]['Win Team']][1]\n",
    "                                      ,Country_score[temp_data.iloc[i]['Lose Team']][0],Country_score[temp_data.iloc[i]['Lose Team']][1],'T']],columns=columns)\n",
    "                Features = Features.append(temp)\n",
    "                temp = pd.DataFrame([[Country_score[temp_data.iloc[i]['Lose Team']][0],Country_score[temp_data.iloc[i]['Lose Team']][1],\n",
    "                                      Country_score[temp_data.iloc[i]['Win Team']][0],Country_score[temp_data.iloc[i]['Win Team']][1],'T']],columns=columns)\n",
    "                Features = Features.append(temp) \n",
    "\n",
    "                \n",
    "            else:    \n",
    "                temp = pd.DataFrame([[Country_score[temp_data.iloc[i]['Win Team']][0],Country_score[temp_data.iloc[i]['Win Team']][1]\n",
    "                                      ,Country_score[temp_data.iloc[i]['Lose Team']][0],Country_score[temp_data.iloc[i]['Lose Team']][1],'A']],columns=columns)\n",
    "                Features = Features.append(temp)\n",
    "                temp = pd.DataFrame([[Country_score[temp_data.iloc[i]['Lose Team']][0],Country_score[temp_data.iloc[i]['Lose Team']][1],\n",
    "                                      Country_score[temp_data.iloc[i]['Win Team']][0],Country_score[temp_data.iloc[i]['Win Team']][1],'B']],columns=columns)\n",
    "                Features = Features.append(temp) \n",
    "                \n",
    "    \n",
    "        Country_game[temp_data.iloc[i]['Win Team']] += 1\n",
    "        Country_game[temp_data.iloc[i]['Lose Team']] += 1\n",
    "    return Features"
   ]
  },
  {
   "cell_type": "code",
   "execution_count": 18,
   "metadata": {},
   "outputs": [],
   "source": [
    "columns = ['TeamA_1','TeamA_2','TeamB_1','TeamB_2','Outcome']\n",
    "Features = pd.DataFrame(columns=columns) # outcome is Team A, Team B or Tie\n",
    "for iYear in unique_years:\n",
    "    temp_data = data_train[data_train['Year']==iYear]\n",
    "    Country_score = CreateWLT_Matrix(temp_data)\n",
    "#     print(type(Country_score))\n",
    "    Features = Create_Features(temp_data,Country_score, Features)\n",
    "Features.reset_index(inplace=True)"
   ]
  },
  {
   "cell_type": "code",
   "execution_count": null,
   "metadata": {},
   "outputs": [],
   "source": []
  },
  {
   "cell_type": "code",
   "execution_count": null,
   "metadata": {
    "collapsed": true
   },
   "outputs": [],
   "source": [
    "from sklearn.ensemble import RandomForestClassifier\n",
    "from sklearn.model_selection import train_test_split"
   ]
  },
  {
   "cell_type": "code",
   "execution_count": null,
   "metadata": {},
   "outputs": [],
   "source": [
    "X = Features[['TeamA_1','TeamA_2','TeamB_1','TeamB_2']]\n",
    "X[X=='N'] = 0\n",
    "X[X=='W'] = 1\n",
    "X[X=='L'] = 2\n",
    "X[X=='T'] = 3\n",
    "\n",
    "y = Features[['Outcome']]"
   ]
  },
  {
   "cell_type": "code",
   "execution_count": null,
   "metadata": {
    "collapsed": true
   },
   "outputs": [],
   "source": [
    "X_train, X_test, y_train, y_test = train_test_split(\n",
    "    X, y, test_size=0.2, random_state=42)"
   ]
  },
  {
   "cell_type": "code",
   "execution_count": null,
   "metadata": {},
   "outputs": [],
   "source": [
    "clf = RandomForestClassifier(max_depth=2,random_state=0)\n",
    "clf.fit(X_train, y_train)\n",
    "y_pred = pd.DataFrame(clf.predict(X_test),columns=[['Outcome']])"
   ]
  },
  {
   "cell_type": "code",
   "execution_count": null,
   "metadata": {},
   "outputs": [],
   "source": [
    "y_test.reset_index(inplace=True)\n",
    "(y_pred['Outcome']==y_test['Outcome']).sum()/(y_pred['Outcome']==y_test['Outcome']).count()"
   ]
  },
  {
   "cell_type": "code",
   "execution_count": null,
   "metadata": {
    "collapsed": true
   },
   "outputs": [],
   "source": []
  },
  {
   "cell_type": "code",
   "execution_count": null,
   "metadata": {
    "collapsed": true
   },
   "outputs": [],
   "source": []
  },
  {
   "cell_type": "code",
   "execution_count": 61,
   "metadata": {},
   "outputs": [
    {
     "data": {
      "text/plain": [
       "B    2\n",
       "Name: Outcome, dtype: int64"
      ]
     },
     "execution_count": 61,
     "metadata": {},
     "output_type": "execute_result"
    }
   ],
   "source": [
    "Features[(Features['TeamA_1']=='W') & \n",
    "         (Features['TeamA_2']=='W') &\n",
    "         (Features['TeamB_1']=='T') &\n",
    "         (Features['TeamB_2']=='T')]['Outcome'].value_counts()"
   ]
  },
  {
   "cell_type": "code",
   "execution_count": null,
   "metadata": {
    "collapsed": true
   },
   "outputs": [],
   "source": [
    "Features[(Features['TeamA_1']=='W') & \n",
    "         (Features['TeamA_2']=='N')]['Outcome'].value_counts()"
   ]
  },
  {
   "cell_type": "code",
   "execution_count": 26,
   "metadata": {},
   "outputs": [
    {
     "data": {
      "text/plain": [
       "0.25862068965517243"
      ]
     },
     "execution_count": 26,
     "metadata": {},
     "output_type": "execute_result"
    }
   ],
   "source": [
    "60/(86+86+60)"
   ]
  },
  {
   "cell_type": "code",
   "execution_count": 35,
   "metadata": {},
   "outputs": [
    {
     "data": {
      "text/plain": [
       "0.28448275862068967"
      ]
     },
     "execution_count": 35,
     "metadata": {},
     "output_type": "execute_result"
    }
   ],
   "source": [
    "66/(66+83+83)"
   ]
  },
  {
   "cell_type": "code",
   "execution_count": 37,
   "metadata": {},
   "outputs": [
    {
     "data": {
      "text/plain": [
       "0.2413793103448276"
      ]
     },
     "execution_count": 37,
     "metadata": {},
     "output_type": "execute_result"
    }
   ],
   "source": [
    "56/(56+88+88)"
   ]
  },
  {
   "cell_type": "code",
   "execution_count": null,
   "metadata": {
    "collapsed": true
   },
   "outputs": [],
   "source": []
  }
 ],
 "metadata": {
  "kernelspec": {
   "display_name": "Python 3",
   "language": "python",
   "name": "python3"
  },
  "language_info": {
   "codemirror_mode": {
    "name": "ipython",
    "version": 3
   },
   "file_extension": ".py",
   "mimetype": "text/x-python",
   "name": "python",
   "nbconvert_exporter": "python",
   "pygments_lexer": "ipython3",
   "version": "3.6.0"
  }
 },
 "nbformat": 4,
 "nbformat_minor": 2
}

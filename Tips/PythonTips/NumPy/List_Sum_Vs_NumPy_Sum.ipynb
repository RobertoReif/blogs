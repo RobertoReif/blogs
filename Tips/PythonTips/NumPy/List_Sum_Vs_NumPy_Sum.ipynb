{
 "cells": [
  {
   "cell_type": "code",
   "execution_count": 1,
   "metadata": {
    "collapsed": true
   },
   "outputs": [],
   "source": [
    "import numpy as np\n",
    "import timeit\n",
    "import matplotlib.pyplot as plt\n",
    "\n",
    "%matplotlib inline"
   ]
  },
  {
   "cell_type": "markdown",
   "metadata": {},
   "source": [
    "### Function that adds Lists"
   ]
  },
  {
   "cell_type": "code",
   "execution_count": 2,
   "metadata": {},
   "outputs": [],
   "source": [
    "def list_sum(data):\n",
    "    val = 0\n",
    "    for i in data:\n",
    "        val = val+i\n",
    "    return val"
   ]
  },
  {
   "cell_type": "markdown",
   "metadata": {},
   "source": [
    "### Function that adds NumPy Arrays"
   ]
  },
  {
   "cell_type": "code",
   "execution_count": 3,
   "metadata": {
    "collapsed": true
   },
   "outputs": [],
   "source": [
    "def numpy_sum(data):\n",
    "    val = data.sum()\n",
    "    return val"
   ]
  },
  {
   "cell_type": "markdown",
   "metadata": {},
   "source": [
    "Times the duration of both function for arrays of lengths from 1 to 1e8"
   ]
  },
  {
   "cell_type": "code",
   "execution_count": 4,
   "metadata": {},
   "outputs": [
    {
     "name": "stdout",
     "output_type": "stream",
     "text": [
      "[       1       10      100     1000    10000   100000  1000000 10000000]\n",
      "[8.469003660138696e-06, 1.0396004654467106e-05, 5.1470000471454114e-05, 0.0009689540020190179, 0.0073143150002579205, 0.06900171699817292, 0.6742365690006409, 6.78360742800578]\n",
      "[7.510499563068151e-05, 0.00017219100118381903, 0.00011012399772880599, 0.00013314000534592196, 0.00014987600297899917, 0.0014323389987112023, 0.016706226000678726, 0.3483342260005884]\n"
     ]
    }
   ],
   "source": [
    "data_len = (10**np.arange(8))\n",
    "print(data_len)\n",
    "times_list = []\n",
    "times_np = []\n",
    "for i in data_len:\n",
    "    times_list.append(timeit.timeit('list_sum(range(i))',\n",
    "                               number = 10,globals=globals()))\n",
    "    times_np.append(timeit.timeit('numpy_sum(np.arange(i))',\n",
    "                               number = 10,globals=globals()))\n",
    "\n",
    "print(times_list)\n",
    "print(times_np)"
   ]
  },
  {
   "cell_type": "markdown",
   "metadata": {},
   "source": [
    "NumPy sum is faster than for loop sum of list items"
   ]
  },
  {
   "cell_type": "code",
   "execution_count": 5,
   "metadata": {},
   "outputs": [
    {
     "data": {
      "image/png": "[encoded data removed]",
      "text/plain": [
       "<matplotlib.figure.Figure at 0x10f87f278>"
      ]
     },
     "metadata": {},
     "output_type": "display_data"
    }
   ],
   "source": [
    "plt.semilogx(data_len,times_list);\n",
    "plt.semilogx(data_len,times_np);\n",
    "plt.xlabel('Length of Array')\n",
    "plt.ylabel('Duration (sec)')\n",
    "plt.legend(['List Sum','NumPy Sum']);"
   ]
  },
  {
   "cell_type": "code",
   "execution_count": null,
   "metadata": {
    "collapsed": true
   },
   "outputs": [],
   "source": []
  }
 ],
 "metadata": {
  "kernelspec": {
   "display_name": "Python 3",
   "language": "python",
   "name": "python3"
  },
  "language_info": {
   "codemirror_mode": {
    "name": "ipython",
    "version": 3
   },
   "file_extension": ".py",
   "mimetype": "text/x-python",
   "name": "python",
   "nbconvert_exporter": "python",
   "pygments_lexer": "ipython3",
   "version": "3.6.0"
  }
 },
 "nbformat": 4,
 "nbformat_minor": 2
}
